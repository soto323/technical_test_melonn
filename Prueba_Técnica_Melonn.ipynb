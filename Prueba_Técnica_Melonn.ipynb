{
 "cells": [
  {
   "cell_type": "markdown",
   "metadata": {
    "id": "evFXvxbZ93pY"
   },
   "source": [
    "# Data Processing"
   ]
  },
  {
   "cell_type": "code",
   "execution_count": 2,
   "metadata": {
    "id": "Zovc6glr-r_I"
   },
   "outputs": [],
   "source": [
    "import pandas as pd\n",
    "\n",
    "data = pd.read_csv(\"Datos_Prueba_DataScientist.csv\")"
   ]
  },
  {
   "cell_type": "code",
   "execution_count": 3,
   "metadata": {
    "colab": {
     "base_uri": "https://localhost:8080/",
     "height": 402
    },
    "id": "aoFP10ml_LVN",
    "outputId": "cdcafd58-c403-4b53-b70f-dd67fe4c52ea"
   },
   "outputs": [
    {
     "data": {
      "text/html": [
       "<div>\n",
       "<style scoped>\n",
       "    .dataframe tbody tr th:only-of-type {\n",
       "        vertical-align: middle;\n",
       "    }\n",
       "\n",
       "    .dataframe tbody tr th {\n",
       "        vertical-align: top;\n",
       "    }\n",
       "\n",
       "    .dataframe thead th {\n",
       "        text-align: right;\n",
       "    }\n",
       "</style>\n",
       "<table border=\"1\" class=\"dataframe\">\n",
       "  <thead>\n",
       "    <tr style=\"text-align: right;\">\n",
       "      <th></th>\n",
       "      <th>OrderId</th>\n",
       "      <th>RequestTime</th>\n",
       "      <th>DeliveryOption</th>\n",
       "    </tr>\n",
       "  </thead>\n",
       "  <tbody>\n",
       "    <tr>\n",
       "      <th>0</th>\n",
       "      <td>PED_1</td>\n",
       "      <td>2018-01-01 08:03:12</td>\n",
       "      <td>Mismo dia entre 6:30 pm y 8:30 pm</td>\n",
       "    </tr>\n",
       "    <tr>\n",
       "      <th>1</th>\n",
       "      <td>PED_2</td>\n",
       "      <td>2018-01-01 08:28:55</td>\n",
       "      <td>Mismo dia entre 6:30 pm y 8:30 pm</td>\n",
       "    </tr>\n",
       "    <tr>\n",
       "      <th>2</th>\n",
       "      <td>PED_3</td>\n",
       "      <td>2018-01-01 08:39:08</td>\n",
       "      <td>Mismo dia entre 6:30 pm y 8:30 pm</td>\n",
       "    </tr>\n",
       "    <tr>\n",
       "      <th>3</th>\n",
       "      <td>PED_4</td>\n",
       "      <td>2018-01-01 09:25:07</td>\n",
       "      <td>Siguiente dia entre 12:30 pm y 2:30 pm</td>\n",
       "    </tr>\n",
       "    <tr>\n",
       "      <th>4</th>\n",
       "      <td>PED_5</td>\n",
       "      <td>2018-01-01 09:36:25</td>\n",
       "      <td>Siguiente dia entre 12:30 pm y 2:30 pm</td>\n",
       "    </tr>\n",
       "    <tr>\n",
       "      <th>...</th>\n",
       "      <td>...</td>\n",
       "      <td>...</td>\n",
       "      <td>...</td>\n",
       "    </tr>\n",
       "    <tr>\n",
       "      <th>153270</th>\n",
       "      <td>PED_153271</td>\n",
       "      <td>2021-02-28 17:19:26</td>\n",
       "      <td>Siguiente dia entre 12:30 pm y 2:30 pm</td>\n",
       "    </tr>\n",
       "    <tr>\n",
       "      <th>153271</th>\n",
       "      <td>PED_153272</td>\n",
       "      <td>2021-02-28 17:19:37</td>\n",
       "      <td>Siguiente dia entre 12:30 pm y 2:30 pm</td>\n",
       "    </tr>\n",
       "    <tr>\n",
       "      <th>153272</th>\n",
       "      <td>PED_153273</td>\n",
       "      <td>2021-02-28 17:43:56</td>\n",
       "      <td>Siguiente dia entre las 6:30 pm y 8:30 pm</td>\n",
       "    </tr>\n",
       "    <tr>\n",
       "      <th>153273</th>\n",
       "      <td>PED_153274</td>\n",
       "      <td>2021-02-28 17:53:28</td>\n",
       "      <td>Siguiente dia entre las 6:30 pm y 8:30 pm</td>\n",
       "    </tr>\n",
       "    <tr>\n",
       "      <th>153274</th>\n",
       "      <td>PED_153275</td>\n",
       "      <td>2021-02-28 17:53:41</td>\n",
       "      <td>Siguiente dia entre 12:30 pm y 2:30 pm</td>\n",
       "    </tr>\n",
       "  </tbody>\n",
       "</table>\n",
       "<p>153275 rows × 3 columns</p>\n",
       "</div>"
      ],
      "text/plain": [
       "           OrderId          RequestTime  \\\n",
       "0            PED_1  2018-01-01 08:03:12   \n",
       "1            PED_2  2018-01-01 08:28:55   \n",
       "2            PED_3  2018-01-01 08:39:08   \n",
       "3            PED_4  2018-01-01 09:25:07   \n",
       "4            PED_5  2018-01-01 09:36:25   \n",
       "...            ...                  ...   \n",
       "153270  PED_153271  2021-02-28 17:19:26   \n",
       "153271  PED_153272  2021-02-28 17:19:37   \n",
       "153272  PED_153273  2021-02-28 17:43:56   \n",
       "153273  PED_153274  2021-02-28 17:53:28   \n",
       "153274  PED_153275  2021-02-28 17:53:41   \n",
       "\n",
       "                                   DeliveryOption  \n",
       "0               Mismo dia entre 6:30 pm y 8:30 pm  \n",
       "1               Mismo dia entre 6:30 pm y 8:30 pm  \n",
       "2               Mismo dia entre 6:30 pm y 8:30 pm  \n",
       "3          Siguiente dia entre 12:30 pm y 2:30 pm  \n",
       "4          Siguiente dia entre 12:30 pm y 2:30 pm  \n",
       "...                                           ...  \n",
       "153270     Siguiente dia entre 12:30 pm y 2:30 pm  \n",
       "153271     Siguiente dia entre 12:30 pm y 2:30 pm  \n",
       "153272  Siguiente dia entre las 6:30 pm y 8:30 pm  \n",
       "153273  Siguiente dia entre las 6:30 pm y 8:30 pm  \n",
       "153274     Siguiente dia entre 12:30 pm y 2:30 pm  \n",
       "\n",
       "[153275 rows x 3 columns]"
      ]
     },
     "execution_count": 3,
     "metadata": {},
     "output_type": "execute_result"
    }
   ],
   "source": [
    "data"
   ]
  },
  {
   "cell_type": "markdown",
   "metadata": {
    "id": "mLHkvgK3CTSp"
   },
   "source": [
    "## Parse the Data\n",
    "\n",
    "\n",
    "First, let's count the number of orders per:\n",
    "*   Time interval (months, weeks, days)\n",
    "*   Delivery option\n",
    "\n"
   ]
  },
  {
   "cell_type": "markdown",
   "metadata": {
    "id": "R0kXgls2Jfv6"
   },
   "source": [
    "### Time Interval"
   ]
  },
  {
   "cell_type": "code",
   "execution_count": 4,
   "metadata": {
    "id": "dSVoXRCwB0rB"
   },
   "outputs": [],
   "source": [
    "# Create dictionaries that contains the number of orders each day and month\n",
    "dates = data[\"RequestTime\"]\n",
    "day_dict = {}\n",
    "month_dict = {}\n",
    "time_dict = {\"Morning shift\": 0, \"Afternoon shift\": 0}\n",
    "for date in dates:\n",
    "    day, time = date.split()\n",
    "    year, month, _ = day.split(\"-\")\n",
    "    month = year+\"-\"+month\n",
    "    if day in day_dict.keys():\n",
    "        day_dict[day] += 1\n",
    "    else:\n",
    "        day_dict[day] = 0\n",
    "\n",
    "    if month in month_dict.keys():\n",
    "        month_dict[month] += 1\n",
    "    else:\n",
    "        month_dict[month] = 0\n",
    "    \n",
    "    if time < \"12:00:00\" and time >= \"06:00:00\":\n",
    "        time_dict[\"Morning shift\"] += 1\n",
    "    # elif time < \"18:00:00\" and time >= \"12:00:00\":\n",
    "    # There are two orders that do not fall into the range of the afternoon\n",
    "    # shift but are included anyway by using the \"else\" statement instead of the\n",
    "    # explicit time range\n",
    "    else:\n",
    "        time_dict[\"Afternoon shift\"] += 1\n"
   ]
  },
  {
   "cell_type": "code",
   "execution_count": 5,
   "metadata": {
    "colab": {
     "base_uri": "https://localhost:8080/",
     "height": 330
    },
    "id": "rCFsRPKNFw-P",
    "outputId": "046b5e1c-4f34-4610-ea8c-d72391dae5e3"
   },
   "outputs": [
    {
     "data": {
      "text/plain": [
       "<BarContainer object of 38 artists>"
      ]
     },
     "execution_count": 5,
     "metadata": {
      "tags": []
     },
     "output_type": "execute_result"
    },
    {
     "data": {
      "image/png": "[encoded data removed]",
      "text/plain": [
       "<Figure size 432x288 with 1 Axes>"
      ]
     },
     "metadata": {
      "needs_background": "light",
      "tags": []
     },
     "output_type": "display_data"
    }
   ],
   "source": [
    "# Plot Monthly Orders\n",
    "import matplotlib.pyplot as plt\n",
    "plt.xticks(rotation = \"vertical\")\n",
    "plt.title(\"Total Monthly Orders\")\n",
    "plt.bar(month_dict.keys(), month_dict.values())\n"
   ]
  },
  {
   "cell_type": "markdown",
   "metadata": {
    "id": "NGLfzmvnpt0H"
   },
   "source": [
    "From the plot we can immediately see several patterns in the data which could later be exploited in prediction. For instance, we can see that there is a linear tendency in the number of orders per month. There is also a seasonal deviation from that tendency in the months of December and January and in the months of June and July in each year. During the months of March and April 2020 we can see a clear reduction in the number of orders because of the Covid-19 pandemic."
   ]
  },
  {
   "cell_type": "code",
   "execution_count": 6,
   "metadata": {
    "colab": {
     "base_uri": "https://localhost:8080/",
     "height": 346
    },
    "id": "vCDlmQRfG_16",
    "outputId": "67148e86-9c73-48bc-f76d-930001a59f17"
   },
   "outputs": [
    {
     "data": {
      "text/plain": [
       "<BarContainer object of 31 artists>"
      ]
     },
     "execution_count": 6,
     "metadata": {
      "tags": []
     },
     "output_type": "execute_result"
    },
    {
     "data": {
      "image/png": "[encoded data removed]",
      "text/plain": [
       "<Figure size 432x288 with 1 Axes>"
      ]
     },
     "metadata": {
      "needs_background": "light",
      "tags": []
     },
     "output_type": "display_data"
    }
   ],
   "source": [
    "# Plot Daily Orders in a Month\n",
    "days_in_month = {k: v for k, v in day_dict.items() if k.split(\"-\")[0] == \"2019\" and k.split(\"-\")[1] == \"01\"}\n",
    "plt.xticks(rotation = \"vertical\")\n",
    "plt.title(\"Daily Orders per Month\")\n",
    "plt.bar(days_in_month.keys(), days_in_month.values())"
   ]
  },
  {
   "cell_type": "markdown",
   "metadata": {
    "id": "sNMH71G6qgot"
   },
   "source": [
    "Despite the month we choose to plot, we find that there is a weekly pattern in the number of orders. Meaning that there are some days in the week that consistently receive more orders than the other days. For example, if we choose January 2019 (\"2019-01\") we see that the days 5, 12, 19, and 26 are higher than the other days in their respective weeks. Followed closely behind 6, 13, 20, and 27 in their respective weeks. Besides the weekly cycle in the number of orders we can see that the process is stationary (by week) and that there is no increase in sales from one week to the next. "
   ]
  },
  {
   "cell_type": "code",
   "execution_count": 7,
   "metadata": {
    "colab": {
     "base_uri": "https://localhost:8080/"
    },
    "id": "_GtZbbO0t33_",
    "outputId": "7f0bc8ba-4a90-4e06-8d3a-af712a16e0c3"
   },
   "outputs": [
    {
     "data": {
      "text/plain": [
       "5"
      ]
     },
     "execution_count": 7,
     "metadata": {
      "tags": []
     },
     "output_type": "execute_result"
    }
   ],
   "source": [
    "import datetime\n",
    "datetime.datetime(2019, 1, 5).weekday()"
   ]
  },
  {
   "cell_type": "markdown",
   "metadata": {
    "id": "Ml1OfS2wulby"
   },
   "source": [
    "From the documentation of datetime we know that the day of the week is returned as an integer, where Monday = 0 and Sunday = 6. So now we know that Saturdays (5) are the day with the highest number of orders followed by Sundays (6)."
   ]
  },
  {
   "cell_type": "code",
   "execution_count": 8,
   "metadata": {
    "colab": {
     "base_uri": "https://localhost:8080/",
     "height": 298
    },
    "id": "iq6F01HV5O3B",
    "outputId": "9584897c-66b4-4a0d-ed85-115a68c2f6e4"
   },
   "outputs": [
    {
     "data": {
      "text/plain": [
       "<BarContainer object of 2 artists>"
      ]
     },
     "execution_count": 8,
     "metadata": {
      "tags": []
     },
     "output_type": "execute_result"
    },
    {
     "data": {
      "image/png": "[encoded data removed]",
      "text/plain": [
       "<Figure size 432x288 with 1 Axes>"
      ]
     },
     "metadata": {
      "needs_background": "light",
      "tags": []
     },
     "output_type": "display_data"
    }
   ],
   "source": [
    "# Orders by Time of Day\n",
    "plt.title(\"Total Orders by Shift\")\n",
    "plt.bar(time_dict.keys(), time_dict.values())"
   ]
  },
  {
   "cell_type": "markdown",
   "metadata": {
    "id": "C4geSDLUtl9L"
   },
   "source": [
    "### Delivery Option"
   ]
  },
  {
   "cell_type": "code",
   "execution_count": 9,
   "metadata": {
    "colab": {
     "base_uri": "https://localhost:8080/"
    },
    "id": "2xx4n3fml9rW",
    "outputId": "7104b6ce-0038-4d00-ec8c-339e00e411d4"
   },
   "outputs": [
    {
     "data": {
      "text/plain": [
       "{1: 86800, 2: 45505, 3: 20970}"
      ]
     },
     "execution_count": 9,
     "metadata": {
      "tags": []
     },
     "output_type": "execute_result"
    }
   ],
   "source": [
    "option = data[\"DeliveryOption\"]\n",
    "option_dict = {1: 0, 2: 0, 3: 0}\n",
    "for order in option:\n",
    "    if \"Mismo dia\" in order:\n",
    "        option_dict[1] += 1\n",
    "    if \"Siguiente dia entre 12:30 pm y 2:30 pm\" == order:\n",
    "        option_dict[2] += 1\n",
    "    if \"Siguiente dia entre las 6:30 pm y 8:30 pm\" == order:\n",
    "        option_dict[3] += 1\n",
    "option_dict"
   ]
  },
  {
   "cell_type": "code",
   "execution_count": 10,
   "metadata": {
    "colab": {
     "base_uri": "https://localhost:8080/"
    },
    "id": "majYcUdUoHy5",
    "outputId": "507f22cf-f7c9-435f-cbab-e679a2b8da7a"
   },
   "outputs": [
    {
     "data": {
      "text/plain": [
       "True"
      ]
     },
     "execution_count": 10,
     "metadata": {
      "tags": []
     },
     "output_type": "execute_result"
    }
   ],
   "source": [
    "# Check that all orders have been counted\n",
    "option.size == sum(option_dict.values())"
   ]
  },
  {
   "cell_type": "code",
   "execution_count": 11,
   "metadata": {
    "colab": {
     "base_uri": "https://localhost:8080/",
     "height": 298
    },
    "id": "H4gEz5EPznIh",
    "outputId": "45c4742d-e864-47b0-a7d1-d49f55151457"
   },
   "outputs": [
    {
     "data": {
      "text/plain": [
       "<BarContainer object of 3 artists>"
      ]
     },
     "execution_count": 11,
     "metadata": {
      "tags": []
     },
     "output_type": "execute_result"
    },
    {
     "data": {
      "image/png": "[encoded data removed]",
      "text/plain": [
       "<Figure size 432x288 with 1 Axes>"
      ]
     },
     "metadata": {
      "needs_background": "light",
      "tags": []
     },
     "output_type": "display_data"
    }
   ],
   "source": [
    "# Plot Delivery Option\n",
    "plt.title(\"Total Orders per Delivery Option\")\n",
    "plt.bar(option_dict.keys(), option_dict.values())"
   ]
  },
  {
   "cell_type": "code",
   "execution_count": 12,
   "metadata": {
    "colab": {
     "base_uri": "https://localhost:8080/"
    },
    "id": "IRpCfToO1R3J",
    "outputId": "60b4fd52-c7ad-4779-befc-863b5a6c57c9"
   },
   "outputs": [
    {
     "name": "stdout",
     "output_type": "stream",
     "text": [
      "{1: 86800, 2: 45505, 3: 20970}\n",
      "{'Morning shift': 113281, 'Afternoon shift': 39994}\n"
     ]
    }
   ],
   "source": [
    "# Similarity between Delivery Option and Time of order\n",
    "print(option_dict)\n",
    "print(time_dict)"
   ]
  },
  {
   "cell_type": "markdown",
   "metadata": {
    "id": "Mb-JXRjT8o7r"
   },
   "source": [
    "Since the Type 1 orders can only be processed in the morning and are the most common, we can see that the number of orders in the morning shift is higher than in the afternoon with a ratio of approximately 3:1."
   ]
  },
  {
   "cell_type": "markdown",
   "metadata": {
    "id": "baXJdaC29wCC"
   },
   "source": [
    "### Covid-19 Affectedness\n",
    "\n",
    "Since the pandemic had a clear effect on the number of sales in some months, it is important to take into account the level of affectedness as an external variable of the time series before making any predictions"
   ]
  },
  {
   "cell_type": "code",
   "execution_count": 14,
   "metadata": {
    "colab": {
     "base_uri": "https://localhost:8080/",
     "height": 330
    },
    "id": "pZsOO0EX8Wh1",
    "outputId": "8722b93a-164c-4ec5-f543-1976a280b8fa"
   },
   "outputs": [
    {
     "data": {
      "text/plain": [
       "<BarContainer object of 39 artists>"
      ]
     },
     "execution_count": 14,
     "metadata": {
      "tags": []
     },
     "output_type": "execute_result"
    },
    {
     "data": {
      "image/png": "[encoded data removed]",
      "text/plain": [
       "<Figure size 432x288 with 1 Axes>"
      ]
     },
     "metadata": {
      "needs_background": "light",
      "tags": []
     },
     "output_type": "display_data"
    }
   ],
   "source": [
    "# Level by month\n",
    "covid_dict = {k: 0 for k in month_dict.keys()}\n",
    "covid_dict.update({\"2020-03\": 3,\n",
    "                   \"2020-04\": 3,\n",
    "                   \"2020-05\": 1,\n",
    "                   \"2020-06\": 1,\n",
    "                   \"2020-07\": 1,\n",
    "                   \"2020-08\": 2,\n",
    "                   \"2020-09\": 2,\n",
    "                   \"2020-10\": 1,\n",
    "                   \"2020-11\": 1,\n",
    "                   \"2020-12\": 2,\n",
    "                   \"2021-01\": 2,\n",
    "                   \"2021-02\": 1,\n",
    "                   \"2021-03\": 0})\n",
    "\n",
    "plt.xticks(rotation = \"vertical\")\n",
    "plt.title(\"Monthly COVID Affectedness\")\n",
    "plt.bar(covid_dict.keys(), covid_dict.values())"
   ]
  },
  {
   "cell_type": "markdown",
   "metadata": {
    "id": "H4Lmh1wKAx8d"
   },
   "source": [
    "## Model\n",
    "\n",
    "Before diving into the statistics, let's first recap some of the properties of the data and the desired prediction.\n",
    "\n",
    "*   Monthly we see a linear trend in the data with a couple seasonal variations in the months of June, July, December and January (the months where people are typically on vacation).\n",
    "*   The Covid-19 pandemic acts as an external variable on the monthly time series, reducing the number of orders each month. The variable is quantified as the level of affectedness with 0 being no effect and 3 being high effect.\n",
    "*   At lower time resolution we can see that there is a periodic tendency in the number of orders with higher values on the weekends and lower values on weekdays. Other than that, there is no clear daily increase on the number of sales.\n",
    "\n",
    "With the previous points in mind, I decided that a SARIMAX model would be the best fit for the data because it lets us take into account the seasonal variations and the external variable of the pandemic. As it is required, the prediction of the shifts must be the same for every day of the month meaning that the daily variation is not taken into account but a smaller time resolution (daily) would allow us to take into account the fact that there are more orders during the weekends and allocate more pickers during these days, although it would considerably increase the complexity of the model.\n",
    "\n"
   ]
  },
  {
   "cell_type": "markdown",
   "metadata": {
    "id": "x1XrvIq_ON3l"
   },
   "source": [
    "### Grid Search"
   ]
  },
  {
   "cell_type": "code",
   "execution_count": 28,
   "metadata": {
    "id": "SyguhNTeGV_P"
   },
   "outputs": [],
   "source": [
    "import itertools\n",
    "import statsmodels.api as sm\n",
    "import numpy as np\n",
    "\n",
    "\n",
    "# We define the p, d and q parameters to take any value between 0 and 3 (exclusive)\n",
    "p = d = q = range(0, 3)\n",
    "\n",
    "# Generate all different combinations of p, q and q triplets\n",
    "pdq = list(itertools.product(p, d, q))\n",
    "\n",
    "# Generate all different combinations of seasonal p, q and q triplets\n",
    "# The s is 12 because we have monthly data\n",
    "pdqs = [(x[0], x[1], x[2], 12) for x in list(itertools.product(p, d, q))]\n",
    "\n"
   ]
  },
  {
   "cell_type": "code",
   "execution_count": null,
   "metadata": {
    "colab": {
     "base_uri": "https://localhost:8080/",
     "height": 1000
    },
    "id": "BCPg_dGEG1_K",
    "outputId": "26b3c75e-8198-4861-82b3-12a1e38d1f4e"
   },
   "outputs": [
    {
     "name": "stdout",
     "output_type": "stream",
     "text": [
      "SARIMAX (0, 0, 0) x (0, 0, 0, 12)12 : BIC Calculated =718.9213928844375\n",
      "SARIMAX (0, 0, 0) x (0, 0, 1, 12)12 : BIC Calculated =1020.2249110337276\n"
     ]
    },
    {
     "name": "stderr",
     "output_type": "stream",
     "text": [
      "/usr/local/lib/python3.7/dist-packages/statsmodels/base/model.py:512: ConvergenceWarning: Maximum Likelihood optimization failed to converge. Check mle_retvals\n",
      "  \"Check mle_retvals\", ConvergenceWarning)\n"
     ]
    },
    {
     "name": "stdout",
     "output_type": "stream",
     "text": [
      "SARIMAX (0, 0, 0) x (0, 1, 0, 12)12 : BIC Calculated =455.1255378746477\n",
      "SARIMAX (0, 0, 0) x (0, 2, 0, 12)12 : BIC Calculated =193.64175647853816\n",
      "SARIMAX (0, 0, 0) x (1, 0, 0, 12)12 : BIC Calculated =443.5262802023763\n"
     ]
    },
    {
     "name": "stderr",
     "output_type": "stream",
     "text": [
      "/usr/local/lib/python3.7/dist-packages/statsmodels/base/model.py:512: ConvergenceWarning: Maximum Likelihood optimization failed to converge. Check mle_retvals\n",
      "  \"Check mle_retvals\", ConvergenceWarning)\n"
     ]
    },
    {
     "name": "stdout",
     "output_type": "stream",
     "text": [
      "SARIMAX (0, 0, 0) x (1, 0, 1, 12)12 : BIC Calculated =407.7146357298497\n",
      "SARIMAX (0, 0, 0) x (1, 1, 0, 12)12 : BIC Calculated =208.60142989037175\n",
      "SARIMAX (0, 0, 0) x (1, 2, 0, 12)12 : BIC Calculated =-18.88970224370759\n",
      "SARIMAX (0, 0, 0) x (2, 0, 0, 12)12 : BIC Calculated =206.84381068121135\n"
     ]
    },
    {
     "name": "stderr",
     "output_type": "stream",
     "text": [
      "/usr/local/lib/python3.7/dist-packages/statsmodels/base/model.py:512: ConvergenceWarning: Maximum Likelihood optimization failed to converge. Check mle_retvals\n",
      "  \"Check mle_retvals\", ConvergenceWarning)\n"
     ]
    },
    {
     "name": "stdout",
     "output_type": "stream",
     "text": [
      "SARIMAX (0, 0, 0) x (2, 0, 1, 12)12 : BIC Calculated =685.3812119242727\n",
      "SARIMAX (0, 0, 0) x (2, 1, 0, 12)12 : BIC Calculated =-39.60335900482234\n",
      "SARIMAX (0, 0, 1) x (0, 0, 0, 12)12 : BIC Calculated =680.4596322193465\n",
      "SARIMAX (0, 0, 1) x (0, 0, 1, 12)12 : BIC Calculated =2020.8652943884435\n",
      "SARIMAX (0, 0, 1) x (0, 1, 0, 12)12 : BIC Calculated =417.6338252255923\n",
      "SARIMAX (0, 0, 1) x (0, 2, 0, 12)12 : BIC Calculated =179.5376288953484\n"
     ]
    },
    {
     "name": "stderr",
     "output_type": "stream",
     "text": [
      "/usr/local/lib/python3.7/dist-packages/statsmodels/base/model.py:512: ConvergenceWarning: Maximum Likelihood optimization failed to converge. Check mle_retvals\n",
      "  \"Check mle_retvals\", ConvergenceWarning)\n"
     ]
    },
    {
     "name": "stdout",
     "output_type": "stream",
     "text": [
      "SARIMAX (0, 0, 1) x (1, 0, 0, 12)12 : BIC Calculated =424.1539201956952\n"
     ]
    },
    {
     "name": "stderr",
     "output_type": "stream",
     "text": [
      "/usr/local/lib/python3.7/dist-packages/statsmodels/base/model.py:512: ConvergenceWarning: Maximum Likelihood optimization failed to converge. Check mle_retvals\n",
      "  \"Check mle_retvals\", ConvergenceWarning)\n"
     ]
    },
    {
     "name": "stdout",
     "output_type": "stream",
     "text": [
      "SARIMAX (0, 0, 1) x (1, 0, 1, 12)12 : BIC Calculated =383.8831615324573\n",
      "SARIMAX (0, 0, 1) x (1, 1, 0, 12)12 : BIC Calculated =209.21218830403768\n"
     ]
    },
    {
     "name": "stderr",
     "output_type": "stream",
     "text": [
      "/usr/local/lib/python3.7/dist-packages/statsmodels/base/model.py:512: ConvergenceWarning: Maximum Likelihood optimization failed to converge. Check mle_retvals\n",
      "  \"Check mle_retvals\", ConvergenceWarning)\n"
     ]
    },
    {
     "name": "stdout",
     "output_type": "stream",
     "text": [
      "SARIMAX (0, 0, 1) x (1, 2, 0, 12)12 : BIC Calculated =8.686889782995907\n"
     ]
    },
    {
     "name": "stderr",
     "output_type": "stream",
     "text": [
      "/usr/local/lib/python3.7/dist-packages/statsmodels/base/model.py:512: ConvergenceWarning: Maximum Likelihood optimization failed to converge. Check mle_retvals\n",
      "  \"Check mle_retvals\", ConvergenceWarning)\n"
     ]
    },
    {
     "name": "stdout",
     "output_type": "stream",
     "text": [
      "SARIMAX (0, 0, 1) x (2, 0, 0, 12)12 : BIC Calculated =236.33146423916557\n"
     ]
    },
    {
     "name": "stderr",
     "output_type": "stream",
     "text": [
      "/usr/local/lib/python3.7/dist-packages/statsmodels/base/model.py:512: ConvergenceWarning: Maximum Likelihood optimization failed to converge. Check mle_retvals\n",
      "  \"Check mle_retvals\", ConvergenceWarning)\n"
     ]
    },
    {
     "name": "stdout",
     "output_type": "stream",
     "text": [
      "SARIMAX (0, 0, 1) x (2, 0, 1, 12)12 : BIC Calculated =274.1203929723297\n"
     ]
    },
    {
     "name": "stderr",
     "output_type": "stream",
     "text": [
      "/usr/local/lib/python3.7/dist-packages/statsmodels/base/model.py:512: ConvergenceWarning: Maximum Likelihood optimization failed to converge. Check mle_retvals\n",
      "  \"Check mle_retvals\", ConvergenceWarning)\n"
     ]
    },
    {
     "name": "stdout",
     "output_type": "stream",
     "text": [
      "SARIMAX (0, 0, 1) x (2, 1, 0, 12)12 : BIC Calculated =32.490473825159306\n",
      "SARIMAX (0, 0, 2) x (0, 0, 0, 12)12 : BIC Calculated =645.89830721018\n",
      "SARIMAX (0, 0, 2) x (0, 0, 1, 12)12 : BIC Calculated =2013.6010274940647\n"
     ]
    },
    {
     "name": "stderr",
     "output_type": "stream",
     "text": [
      "/usr/local/lib/python3.7/dist-packages/statsmodels/base/model.py:512: ConvergenceWarning: Maximum Likelihood optimization failed to converge. Check mle_retvals\n",
      "  \"Check mle_retvals\", ConvergenceWarning)\n"
     ]
    },
    {
     "name": "stdout",
     "output_type": "stream",
     "text": [
      "SARIMAX (0, 0, 2) x (0, 1, 0, 12)12 : BIC Calculated =391.14099428663474\n",
      "SARIMAX (0, 0, 2) x (0, 2, 0, 12)12 : BIC Calculated =167.1357780485296\n",
      "SARIMAX (0, 0, 2) x (1, 0, 0, 12)12 : BIC Calculated =414.44759955213374\n"
     ]
    },
    {
     "name": "stderr",
     "output_type": "stream",
     "text": [
      "/usr/local/lib/python3.7/dist-packages/statsmodels/base/model.py:512: ConvergenceWarning: Maximum Likelihood optimization failed to converge. Check mle_retvals\n",
      "  \"Check mle_retvals\", ConvergenceWarning)\n",
      "/usr/local/lib/python3.7/dist-packages/statsmodels/base/model.py:512: ConvergenceWarning: Maximum Likelihood optimization failed to converge. Check mle_retvals\n",
      "  \"Check mle_retvals\", ConvergenceWarning)\n"
     ]
    },
    {
     "name": "stdout",
     "output_type": "stream",
     "text": [
      "SARIMAX (0, 0, 2) x (1, 0, 1, 12)12 : BIC Calculated =376.71422045532705\n"
     ]
    },
    {
     "name": "stderr",
     "output_type": "stream",
     "text": [
      "/usr/local/lib/python3.7/dist-packages/statsmodels/base/model.py:512: ConvergenceWarning: Maximum Likelihood optimization failed to converge. Check mle_retvals\n",
      "  \"Check mle_retvals\", ConvergenceWarning)\n"
     ]
    },
    {
     "name": "stdout",
     "output_type": "stream",
     "text": [
      "SARIMAX (0, 0, 2) x (1, 1, 0, 12)12 : BIC Calculated =217.2195293909967\n"
     ]
    },
    {
     "name": "stderr",
     "output_type": "stream",
     "text": [
      "/usr/local/lib/python3.7/dist-packages/statsmodels/base/model.py:512: ConvergenceWarning: Maximum Likelihood optimization failed to converge. Check mle_retvals\n",
      "  \"Check mle_retvals\", ConvergenceWarning)\n"
     ]
    },
    {
     "name": "stdout",
     "output_type": "stream",
     "text": [
      "SARIMAX (0, 0, 2) x (1, 2, 0, 12)12 : BIC Calculated =5.718880150851897\n"
     ]
    },
    {
     "name": "stderr",
     "output_type": "stream",
     "text": [
      "/usr/local/lib/python3.7/dist-packages/statsmodels/base/model.py:512: ConvergenceWarning: Maximum Likelihood optimization failed to converge. Check mle_retvals\n",
      "  \"Check mle_retvals\", ConvergenceWarning)\n"
     ]
    },
    {
     "name": "stdout",
     "output_type": "stream",
     "text": [
      "SARIMAX (0, 0, 2) x (2, 0, 0, 12)12 : BIC Calculated =221.70217095673897\n"
     ]
    },
    {
     "name": "stderr",
     "output_type": "stream",
     "text": [
      "/usr/local/lib/python3.7/dist-packages/statsmodels/base/model.py:512: ConvergenceWarning: Maximum Likelihood optimization failed to converge. Check mle_retvals\n",
      "  \"Check mle_retvals\", ConvergenceWarning)\n"
     ]
    },
    {
     "name": "stdout",
     "output_type": "stream",
     "text": [
      "SARIMAX (0, 0, 2) x (2, 0, 1, 12)12 : BIC Calculated =280.1192427875314\n"
     ]
    },
    {
     "name": "stderr",
     "output_type": "stream",
     "text": [
      "/usr/local/lib/python3.7/dist-packages/statsmodels/base/model.py:512: ConvergenceWarning: Maximum Likelihood optimization failed to converge. Check mle_retvals\n",
      "  \"Check mle_retvals\", ConvergenceWarning)\n",
      "/usr/local/lib/python3.7/dist-packages/statsmodels/tsa/statespace/sarimax.py:887: RuntimeWarning: Mean of empty slice.\n",
      "  params_variance = (residuals[k_params_ma:]**2).mean()\n",
      "/usr/local/lib/python3.7/dist-packages/numpy/core/_methods.py:170: RuntimeWarning: invalid value encountered in double_scalars\n",
      "  ret = ret.dtype.type(ret / rcount)\n",
      "/usr/local/lib/python3.7/dist-packages/statsmodels/base/model.py:512: ConvergenceWarning: Maximum Likelihood optimization failed to converge. Check mle_retvals\n",
      "  \"Check mle_retvals\", ConvergenceWarning)\n"
     ]
    },
    {
     "name": "stdout",
     "output_type": "stream",
     "text": [
      "SARIMAX (0, 0, 2) x (2, 1, 0, 12)12 : BIC Calculated =18.65574917941352\n",
      "SARIMAX (0, 1, 0) x (0, 0, 0, 12)12 : BIC Calculated =618.4939873862163\n",
      "SARIMAX (0, 1, 0) x (0, 0, 1, 12)12 : BIC Calculated =nan\n",
      "SARIMAX (0, 1, 0) x (0, 1, 0, 12)12 : BIC Calculated =366.34760814822096\n",
      "SARIMAX (0, 1, 0) x (0, 2, 0, 12)12 : BIC Calculated =173.5650834306148\n",
      "SARIMAX (0, 1, 0) x (1, 0, 0, 12)12 : BIC Calculated =367.6421249505247\n",
      "SARIMAX (0, 1, 0) x (1, 0, 1, 12)12 : BIC Calculated =nan\n"
     ]
    },
    {
     "name": "stderr",
     "output_type": "stream",
     "text": [
      "/usr/local/lib/python3.7/dist-packages/statsmodels/base/model.py:512: ConvergenceWarning: Maximum Likelihood optimization failed to converge. Check mle_retvals\n",
      "  \"Check mle_retvals\", ConvergenceWarning)\n"
     ]
    },
    {
     "name": "stdout",
     "output_type": "stream",
     "text": [
      "SARIMAX (0, 1, 0) x (1, 1, 0, 12)12 : BIC Calculated =184.66615240065963\n"
     ]
    },
    {
     "name": "stderr",
     "output_type": "stream",
     "text": [
      "/usr/local/lib/python3.7/dist-packages/statsmodels/base/model.py:512: ConvergenceWarning: Maximum Likelihood optimization failed to converge. Check mle_retvals\n",
      "  \"Check mle_retvals\", ConvergenceWarning)\n"
     ]
    },
    {
     "name": "stdout",
     "output_type": "stream",
     "text": [
      "SARIMAX (0, 1, 0) x (1, 2, 0, 12)12 : BIC Calculated =nan\n",
      "SARIMAX (0, 1, 0) x (2, 0, 0, 12)12 : BIC Calculated =187.21830827587564\n",
      "SARIMAX (0, 1, 0) x (2, 0, 1, 12)12 : BIC Calculated =nan\n"
     ]
    },
    {
     "name": "stderr",
     "output_type": "stream",
     "text": [
      "/usr/local/lib/python3.7/dist-packages/statsmodels/base/model.py:512: ConvergenceWarning: Maximum Likelihood optimization failed to converge. Check mle_retvals\n",
      "  \"Check mle_retvals\", ConvergenceWarning)\n",
      "/usr/local/lib/python3.7/dist-packages/statsmodels/base/model.py:512: ConvergenceWarning: Maximum Likelihood optimization failed to converge. Check mle_retvals\n",
      "  \"Check mle_retvals\", ConvergenceWarning)\n"
     ]
    },
    {
     "name": "stdout",
     "output_type": "stream",
     "text": [
      "SARIMAX (0, 1, 0) x (2, 1, 0, 12)12 : BIC Calculated =nan\n",
      "SARIMAX (0, 1, 1) x (0, 0, 0, 12)12 : BIC Calculated =605.3917274134035\n",
      "SARIMAX (0, 1, 1) x (0, 0, 1, 12)12 : BIC Calculated =2280.6844818600002\n",
      "SARIMAX (0, 1, 1) x (0, 1, 0, 12)12 : BIC Calculated =350.65256111954875\n",
      "SARIMAX (0, 1, 1) x (0, 2, 0, 12)12 : BIC Calculated =160.84758490627655\n",
      "SARIMAX (0, 1, 1) x (1, 0, 0, 12)12 : BIC Calculated =370.20549948930557\n"
     ]
    },
    {
     "name": "stderr",
     "output_type": "stream",
     "text": [
      "/usr/local/lib/python3.7/dist-packages/statsmodels/base/model.py:512: ConvergenceWarning: Maximum Likelihood optimization failed to converge. Check mle_retvals\n",
      "  \"Check mle_retvals\", ConvergenceWarning)\n"
     ]
    },
    {
     "name": "stdout",
     "output_type": "stream",
     "text": [
      "SARIMAX (0, 1, 1) x (1, 0, 1, 12)12 : BIC Calculated =338.0886612935351\n",
      "SARIMAX (0, 1, 1) x (1, 1, 0, 12)12 : BIC Calculated =186.08141624812143\n",
      "SARIMAX (0, 1, 1) x (1, 2, 0, 12)12 : BIC Calculated =-13.723443723550693\n",
      "SARIMAX (0, 1, 1) x (2, 0, 0, 12)12 : BIC Calculated =188.62479860307835\n"
     ]
    },
    {
     "name": "stderr",
     "output_type": "stream",
     "text": [
      "/usr/local/lib/python3.7/dist-packages/statsmodels/base/model.py:512: ConvergenceWarning: Maximum Likelihood optimization failed to converge. Check mle_retvals\n",
      "  \"Check mle_retvals\", ConvergenceWarning)\n"
     ]
    },
    {
     "name": "stdout",
     "output_type": "stream",
     "text": [
      "SARIMAX (0, 1, 1) x (2, 0, 1, 12)12 : BIC Calculated =191.18900047072782\n",
      "SARIMAX (0, 1, 1) x (2, 1, 0, 12)12 : BIC Calculated =7.316134234837122\n",
      "SARIMAX (0, 1, 2) x (0, 0, 0, 12)12 : BIC Calculated =585.3872949251272\n",
      "SARIMAX (0, 1, 2) x (0, 0, 1, 12)12 : BIC Calculated =1938.4963148621391\n",
      "SARIMAX (0, 1, 2) x (0, 1, 0, 12)12 : BIC Calculated =332.20568671232735\n",
      "SARIMAX (0, 1, 2) x (0, 2, 0, 12)12 : BIC Calculated =147.6521807149093\n",
      "SARIMAX (0, 1, 2) x (1, 0, 0, 12)12 : BIC Calculated =373.1866661807304\n"
     ]
    },
    {
     "name": "stderr",
     "output_type": "stream",
     "text": [
      "/usr/local/lib/python3.7/dist-packages/statsmodels/base/model.py:512: ConvergenceWarning: Maximum Likelihood optimization failed to converge. Check mle_retvals\n",
      "  \"Check mle_retvals\", ConvergenceWarning)\n",
      "/usr/local/lib/python3.7/dist-packages/statsmodels/base/model.py:512: ConvergenceWarning: Maximum Likelihood optimization failed to converge. Check mle_retvals\n",
      "  \"Check mle_retvals\", ConvergenceWarning)\n"
     ]
    },
    {
     "name": "stdout",
     "output_type": "stream",
     "text": [
      "SARIMAX (0, 1, 2) x (1, 0, 1, 12)12 : BIC Calculated =329.9440378674569\n",
      "SARIMAX (0, 1, 2) x (1, 1, 0, 12)12 : BIC Calculated =184.24616515842047\n",
      "SARIMAX (0, 1, 2) x (1, 2, 0, 12)12 : BIC Calculated =-1.1297861789791261\n"
     ]
    },
    {
     "name": "stderr",
     "output_type": "stream",
     "text": [
      "/usr/local/lib/python3.7/dist-packages/statsmodels/base/model.py:512: ConvergenceWarning: Maximum Likelihood optimization failed to converge. Check mle_retvals\n",
      "  \"Check mle_retvals\", ConvergenceWarning)\n"
     ]
    },
    {
     "name": "stdout",
     "output_type": "stream",
     "text": [
      "SARIMAX (0, 1, 2) x (2, 0, 0, 12)12 : BIC Calculated =191.22700648235534\n"
     ]
    },
    {
     "name": "stderr",
     "output_type": "stream",
     "text": [
      "/usr/local/lib/python3.7/dist-packages/statsmodels/base/model.py:512: ConvergenceWarning: Maximum Likelihood optimization failed to converge. Check mle_retvals\n",
      "  \"Check mle_retvals\", ConvergenceWarning)\n"
     ]
    },
    {
     "name": "stdout",
     "output_type": "stream",
     "text": [
      "SARIMAX (0, 1, 2) x (2, 0, 1, 12)12 : BIC Calculated =189.7013390267549\n",
      "SARIMAX (0, 1, 2) x (2, 1, 0, 12)12 : BIC Calculated =4.475050969193299\n",
      "SARIMAX (0, 2, 0) x (0, 0, 0, 12)12 : BIC Calculated =625.5537622292742\n",
      "SARIMAX (0, 2, 0) x (0, 1, 0, 12)12 : BIC Calculated =367.7269489874267\n",
      "SARIMAX (0, 2, 0) x (0, 2, 0, 12)12 : BIC Calculated =169.77449205830584\n",
      "SARIMAX (0, 2, 0) x (1, 0, 0, 12)12 : BIC Calculated =370.8470784557903\n",
      "SARIMAX (0, 2, 0) x (1, 1, 0, 12)12 : BIC Calculated =182.1334367138865\n",
      "SARIMAX (0, 2, 0) x (2, 0, 0, 12)12 : BIC Calculated =184.5967831064259\n",
      "SARIMAX (0, 2, 1) x (0, 0, 0, 12)12 : BIC Calculated =595.4869110075886\n",
      "SARIMAX (0, 2, 1) x (0, 1, 0, 12)12 : BIC Calculated =343.3470907142221\n",
      "SARIMAX (0, 2, 1) x (0, 2, 0, 12)12 : BIC Calculated =151.41172349311742\n",
      "SARIMAX (0, 2, 1) x (1, 0, 0, 12)12 : BIC Calculated =357.77332450829056\n"
     ]
    },
    {
     "name": "stderr",
     "output_type": "stream",
     "text": [
      "/usr/local/lib/python3.7/dist-packages/statsmodels/base/model.py:512: ConvergenceWarning: Maximum Likelihood optimization failed to converge. Check mle_retvals\n",
      "  \"Check mle_retvals\", ConvergenceWarning)\n"
     ]
    },
    {
     "name": "stdout",
     "output_type": "stream",
     "text": [
      "SARIMAX (0, 2, 1) x (1, 1, 0, 12)12 : BIC Calculated =176.04150473886975\n"
     ]
    },
    {
     "name": "stderr",
     "output_type": "stream",
     "text": [
      "/usr/local/lib/python3.7/dist-packages/statsmodels/base/model.py:512: ConvergenceWarning: Maximum Likelihood optimization failed to converge. Check mle_retvals\n",
      "  \"Check mle_retvals\", ConvergenceWarning)\n"
     ]
    },
    {
     "name": "stdout",
     "output_type": "stream",
     "text": [
      "SARIMAX (0, 2, 1) x (2, 0, 0, 12)12 : BIC Calculated =178.4492302130888\n",
      "SARIMAX (0, 2, 2) x (0, 0, 0, 12)12 : BIC Calculated =571.1006121142689\n",
      "SARIMAX (0, 2, 2) x (0, 1, 0, 12)12 : BIC Calculated =330.79083521506493\n",
      "SARIMAX (0, 2, 2) x (0, 2, 0, 12)12 : BIC Calculated =135.94451441085263\n"
     ]
    },
    {
     "name": "stderr",
     "output_type": "stream",
     "text": [
      "/usr/local/lib/python3.7/dist-packages/statsmodels/base/model.py:512: ConvergenceWarning: Maximum Likelihood optimization failed to converge. Check mle_retvals\n",
      "  \"Check mle_retvals\", ConvergenceWarning)\n"
     ]
    },
    {
     "name": "stdout",
     "output_type": "stream",
     "text": [
      "SARIMAX (0, 2, 2) x (1, 0, 0, 12)12 : BIC Calculated =360.12143724662735\n"
     ]
    },
    {
     "name": "stderr",
     "output_type": "stream",
     "text": [
      "/usr/local/lib/python3.7/dist-packages/statsmodels/base/model.py:512: ConvergenceWarning: Maximum Likelihood optimization failed to converge. Check mle_retvals\n",
      "  \"Check mle_retvals\", ConvergenceWarning)\n"
     ]
    },
    {
     "name": "stdout",
     "output_type": "stream",
     "text": [
      "SARIMAX (0, 2, 2) x (1, 1, 0, 12)12 : BIC Calculated =171.75754635431952\n"
     ]
    },
    {
     "name": "stderr",
     "output_type": "stream",
     "text": [
      "/usr/local/lib/python3.7/dist-packages/statsmodels/base/model.py:512: ConvergenceWarning: Maximum Likelihood optimization failed to converge. Check mle_retvals\n",
      "  \"Check mle_retvals\", ConvergenceWarning)\n"
     ]
    },
    {
     "name": "stdout",
     "output_type": "stream",
     "text": [
      "SARIMAX (0, 2, 2) x (2, 0, 0, 12)12 : BIC Calculated =180.4179626555834\n",
      "SARIMAX (1, 0, 0) x (0, 0, 0, 12)12 : BIC Calculated =638.1176846942218\n"
     ]
    },
    {
     "name": "stderr",
     "output_type": "stream",
     "text": [
      "/usr/local/lib/python3.7/dist-packages/statsmodels/base/model.py:512: ConvergenceWarning: Maximum Likelihood optimization failed to converge. Check mle_retvals\n",
      "  \"Check mle_retvals\", ConvergenceWarning)\n"
     ]
    },
    {
     "name": "stdout",
     "output_type": "stream",
     "text": [
      "SARIMAX (1, 0, 0) x (0, 0, 1, 12)12 : BIC Calculated =1038.6596891465929\n",
      "SARIMAX (1, 0, 0) x (0, 1, 0, 12)12 : BIC Calculated =387.2729875886982\n",
      "SARIMAX (1, 0, 0) x (0, 2, 0, 12)12 : BIC Calculated =189.2757536986875\n"
     ]
    },
    {
     "name": "stderr",
     "output_type": "stream",
     "text": [
      "/usr/local/lib/python3.7/dist-packages/statsmodels/base/model.py:512: ConvergenceWarning: Maximum Likelihood optimization failed to converge. Check mle_retvals\n",
      "  \"Check mle_retvals\", ConvergenceWarning)\n"
     ]
    },
    {
     "name": "stdout",
     "output_type": "stream",
     "text": [
      "SARIMAX (1, 0, 0) x (1, 0, 0, 12)12 : BIC Calculated =368.24682664726134\n"
     ]
    },
    {
     "name": "stderr",
     "output_type": "stream",
     "text": [
      "/usr/local/lib/python3.7/dist-packages/statsmodels/base/model.py:512: ConvergenceWarning: Maximum Likelihood optimization failed to converge. Check mle_retvals\n",
      "  \"Check mle_retvals\", ConvergenceWarning)\n"
     ]
    },
    {
     "name": "stdout",
     "output_type": "stream",
     "text": [
      "SARIMAX (1, 0, 0) x (1, 0, 1, 12)12 : BIC Calculated =374.0260561334057\n"
     ]
    },
    {
     "name": "stderr",
     "output_type": "stream",
     "text": [
      "/usr/local/lib/python3.7/dist-packages/statsmodels/base/model.py:512: ConvergenceWarning: Maximum Likelihood optimization failed to converge. Check mle_retvals\n",
      "  \"Check mle_retvals\", ConvergenceWarning)\n"
     ]
    },
    {
     "name": "stdout",
     "output_type": "stream",
     "text": [
      "SARIMAX (1, 0, 0) x (1, 1, 0, 12)12 : BIC Calculated =200.7703854735147\n",
      "SARIMAX (1, 0, 0) x (1, 2, 0, 12)12 : BIC Calculated =-6.680445757972667\n"
     ]
    },
    {
     "name": "stderr",
     "output_type": "stream",
     "text": [
      "/usr/local/lib/python3.7/dist-packages/statsmodels/base/model.py:512: ConvergenceWarning: Maximum Likelihood optimization failed to converge. Check mle_retvals\n",
      "  \"Check mle_retvals\", ConvergenceWarning)\n"
     ]
    },
    {
     "name": "stdout",
     "output_type": "stream",
     "text": [
      "SARIMAX (1, 0, 0) x (2, 0, 0, 12)12 : BIC Calculated =249.81419671788515\n"
     ]
    },
    {
     "name": "stderr",
     "output_type": "stream",
     "text": [
      "/usr/local/lib/python3.7/dist-packages/statsmodels/base/model.py:512: ConvergenceWarning: Maximum Likelihood optimization failed to converge. Check mle_retvals\n",
      "  \"Check mle_retvals\", ConvergenceWarning)\n"
     ]
    },
    {
     "name": "stdout",
     "output_type": "stream",
     "text": [
      "SARIMAX (1, 0, 0) x (2, 0, 1, 12)12 : BIC Calculated =244.80158215452028\n",
      "SARIMAX (1, 0, 0) x (2, 1, 0, 12)12 : BIC Calculated =-5.531505637245505\n",
      "SARIMAX (1, 0, 1) x (0, 0, 0, 12)12 : BIC Calculated =637.7659119622717\n",
      "SARIMAX (1, 0, 1) x (0, 0, 1, 12)12 : BIC Calculated =2719.8168534738743\n",
      "SARIMAX (1, 0, 1) x (0, 1, 0, 12)12 : BIC Calculated =366.97884745898386\n"
     ]
    },
    {
     "name": "stderr",
     "output_type": "stream",
     "text": [
      "/usr/local/lib/python3.7/dist-packages/statsmodels/base/model.py:512: ConvergenceWarning: Maximum Likelihood optimization failed to converge. Check mle_retvals\n",
      "  \"Check mle_retvals\", ConvergenceWarning)\n"
     ]
    },
    {
     "name": "stdout",
     "output_type": "stream",
     "text": [
      "SARIMAX (1, 0, 1) x (0, 2, 0, 12)12 : BIC Calculated =176.9651069277353\n"
     ]
    },
    {
     "name": "stderr",
     "output_type": "stream",
     "text": [
      "/usr/local/lib/python3.7/dist-packages/statsmodels/base/model.py:512: ConvergenceWarning: Maximum Likelihood optimization failed to converge. Check mle_retvals\n",
      "  \"Check mle_retvals\", ConvergenceWarning)\n"
     ]
    },
    {
     "name": "stdout",
     "output_type": "stream",
     "text": [
      "SARIMAX (1, 0, 1) x (1, 0, 0, 12)12 : BIC Calculated =451.80228931666926\n"
     ]
    },
    {
     "name": "stderr",
     "output_type": "stream",
     "text": [
      "/usr/local/lib/python3.7/dist-packages/statsmodels/base/model.py:512: ConvergenceWarning: Maximum Likelihood optimization failed to converge. Check mle_retvals\n",
      "  \"Check mle_retvals\", ConvergenceWarning)\n"
     ]
    },
    {
     "name": "stdout",
     "output_type": "stream",
     "text": [
      "SARIMAX (1, 0, 1) x (1, 0, 1, 12)12 : BIC Calculated =364.84847800701914\n"
     ]
    },
    {
     "name": "stderr",
     "output_type": "stream",
     "text": [
      "/usr/local/lib/python3.7/dist-packages/statsmodels/base/model.py:512: ConvergenceWarning: Maximum Likelihood optimization failed to converge. Check mle_retvals\n",
      "  \"Check mle_retvals\", ConvergenceWarning)\n"
     ]
    },
    {
     "name": "stdout",
     "output_type": "stream",
     "text": [
      "SARIMAX (1, 0, 1) x (1, 1, 0, 12)12 : BIC Calculated =188.29470253136037\n",
      "SARIMAX (1, 0, 1) x (1, 2, 0, 12)12 : BIC Calculated =28500312229.623405\n"
     ]
    },
    {
     "name": "stderr",
     "output_type": "stream",
     "text": [
      "/usr/local/lib/python3.7/dist-packages/statsmodels/base/model.py:512: ConvergenceWarning: Maximum Likelihood optimization failed to converge. Check mle_retvals\n",
      "  \"Check mle_retvals\", ConvergenceWarning)\n"
     ]
    },
    {
     "name": "stdout",
     "output_type": "stream",
     "text": [
      "SARIMAX (1, 0, 1) x (2, 0, 0, 12)12 : BIC Calculated =241.41834341689645\n"
     ]
    },
    {
     "name": "stderr",
     "output_type": "stream",
     "text": [
      "/usr/local/lib/python3.7/dist-packages/statsmodels/base/model.py:512: ConvergenceWarning: Maximum Likelihood optimization failed to converge. Check mle_retvals\n",
      "  \"Check mle_retvals\", ConvergenceWarning)\n"
     ]
    },
    {
     "name": "stdout",
     "output_type": "stream",
     "text": [
      "SARIMAX (1, 0, 1) x (2, 0, 1, 12)12 : BIC Calculated =258.5538952919759\n"
     ]
    },
    {
     "name": "stderr",
     "output_type": "stream",
     "text": [
      "/usr/local/lib/python3.7/dist-packages/statsmodels/base/model.py:512: ConvergenceWarning: Maximum Likelihood optimization failed to converge. Check mle_retvals\n",
      "  \"Check mle_retvals\", ConvergenceWarning)\n"
     ]
    },
    {
     "name": "stdout",
     "output_type": "stream",
     "text": [
      "SARIMAX (1, 0, 1) x (2, 1, 0, 12)12 : BIC Calculated =12.973581031140766\n",
      "SARIMAX (1, 0, 2) x (0, 0, 0, 12)12 : BIC Calculated =654.780189885851\n"
     ]
    },
    {
     "name": "stderr",
     "output_type": "stream",
     "text": [
      "/usr/local/lib/python3.7/dist-packages/statsmodels/base/model.py:512: ConvergenceWarning: Maximum Likelihood optimization failed to converge. Check mle_retvals\n",
      "  \"Check mle_retvals\", ConvergenceWarning)\n"
     ]
    },
    {
     "name": "stdout",
     "output_type": "stream",
     "text": [
      "SARIMAX (1, 0, 2) x (0, 0, 1, 12)12 : BIC Calculated =1898.6163895177735\n",
      "SARIMAX (1, 0, 2) x (0, 1, 0, 12)12 : BIC Calculated =350.99225082473566\n",
      "SARIMAX (1, 0, 2) x (0, 2, 0, 12)12 : BIC Calculated =165.41007016428645\n"
     ]
    },
    {
     "name": "stderr",
     "output_type": "stream",
     "text": [
      "/usr/local/lib/python3.7/dist-packages/statsmodels/base/model.py:512: ConvergenceWarning: Maximum Likelihood optimization failed to converge. Check mle_retvals\n",
      "  \"Check mle_retvals\", ConvergenceWarning)\n"
     ]
    },
    {
     "name": "stdout",
     "output_type": "stream",
     "text": [
      "SARIMAX (1, 0, 2) x (1, 0, 0, 12)12 : BIC Calculated =403.77367955066524\n"
     ]
    },
    {
     "name": "stderr",
     "output_type": "stream",
     "text": [
      "/usr/local/lib/python3.7/dist-packages/statsmodels/base/model.py:512: ConvergenceWarning: Maximum Likelihood optimization failed to converge. Check mle_retvals\n",
      "  \"Check mle_retvals\", ConvergenceWarning)\n"
     ]
    },
    {
     "name": "stdout",
     "output_type": "stream",
     "text": [
      "SARIMAX (1, 0, 2) x (1, 0, 1, 12)12 : BIC Calculated =368.67752323845946\n"
     ]
    },
    {
     "name": "stderr",
     "output_type": "stream",
     "text": [
      "/usr/local/lib/python3.7/dist-packages/statsmodels/base/model.py:512: ConvergenceWarning: Maximum Likelihood optimization failed to converge. Check mle_retvals\n",
      "  \"Check mle_retvals\", ConvergenceWarning)\n"
     ]
    },
    {
     "name": "stdout",
     "output_type": "stream",
     "text": [
      "SARIMAX (1, 0, 2) x (1, 1, 0, 12)12 : BIC Calculated =195.41289368812642\n",
      "SARIMAX (1, 0, 2) x (1, 2, 0, 12)12 : BIC Calculated =-6.143245765354478\n"
     ]
    },
    {
     "name": "stderr",
     "output_type": "stream",
     "text": [
      "/usr/local/lib/python3.7/dist-packages/statsmodels/base/model.py:512: ConvergenceWarning: Maximum Likelihood optimization failed to converge. Check mle_retvals\n",
      "  \"Check mle_retvals\", ConvergenceWarning)\n"
     ]
    },
    {
     "name": "stdout",
     "output_type": "stream",
     "text": [
      "SARIMAX (1, 0, 2) x (2, 0, 0, 12)12 : BIC Calculated =193.91860820564037\n"
     ]
    },
    {
     "name": "stderr",
     "output_type": "stream",
     "text": [
      "/usr/local/lib/python3.7/dist-packages/statsmodels/base/model.py:512: ConvergenceWarning: Maximum Likelihood optimization failed to converge. Check mle_retvals\n",
      "  \"Check mle_retvals\", ConvergenceWarning)\n"
     ]
    },
    {
     "name": "stdout",
     "output_type": "stream",
     "text": [
      "SARIMAX (1, 0, 2) x (2, 0, 1, 12)12 : BIC Calculated =257.7155999489616\n"
     ]
    },
    {
     "name": "stderr",
     "output_type": "stream",
     "text": [
      "/usr/local/lib/python3.7/dist-packages/statsmodels/base/model.py:512: ConvergenceWarning: Maximum Likelihood optimization failed to converge. Check mle_retvals\n",
      "  \"Check mle_retvals\", ConvergenceWarning)\n"
     ]
    },
    {
     "name": "stdout",
     "output_type": "stream",
     "text": [
      "SARIMAX (1, 0, 2) x (2, 1, 0, 12)12 : BIC Calculated =14.22003686125317\n",
      "SARIMAX (1, 1, 0) x (0, 0, 0, 12)12 : BIC Calculated =622.0531939079724\n"
     ]
    },
    {
     "name": "stderr",
     "output_type": "stream",
     "text": [
      "/usr/local/lib/python3.7/dist-packages/statsmodels/base/model.py:512: ConvergenceWarning: Maximum Likelihood optimization failed to converge. Check mle_retvals\n",
      "  \"Check mle_retvals\", ConvergenceWarning)\n"
     ]
    },
    {
     "name": "stdout",
     "output_type": "stream",
     "text": [
      "SARIMAX (1, 1, 0) x (0, 0, 1, 12)12 : BIC Calculated =1011.5375603439693\n",
      "SARIMAX (1, 1, 0) x (0, 1, 0, 12)12 : BIC Calculated =369.2078538335471\n",
      "SARIMAX (1, 1, 0) x (0, 2, 0, 12)12 : BIC Calculated =175.0628874285118\n",
      "SARIMAX (1, 1, 0) x (1, 0, 0, 12)12 : BIC Calculated =346.9771905398893\n"
     ]
    },
    {
     "name": "stderr",
     "output_type": "stream",
     "text": [
      "/usr/local/lib/python3.7/dist-packages/statsmodels/base/model.py:512: ConvergenceWarning: Maximum Likelihood optimization failed to converge. Check mle_retvals\n",
      "  \"Check mle_retvals\", ConvergenceWarning)\n"
     ]
    },
    {
     "name": "stdout",
     "output_type": "stream",
     "text": [
      "SARIMAX (1, 1, 0) x (1, 0, 1, 12)12 : BIC Calculated =349.87162480060704\n",
      "SARIMAX (1, 1, 0) x (1, 1, 0, 12)12 : BIC Calculated =172.70713018387545\n",
      "SARIMAX (1, 1, 0) x (1, 2, 0, 12)12 : BIC Calculated =-inf\n"
     ]
    },
    {
     "name": "stderr",
     "output_type": "stream",
     "text": [
      "/usr/local/lib/python3.7/dist-packages/statsmodels/tsa/statespace/mlemodel.py:948: RuntimeWarning: invalid value encountered in true_divide\n",
      "  (self.nobs - self.ssm.loglikelihood_burn)\n",
      "/usr/local/lib/python3.7/dist-packages/statsmodels/tools/eval_measures.py:386: RuntimeWarning: divide by zero encountered in log\n",
      "  return -2. * llf + np.log(nobs) * df_modelwc\n",
      "/usr/local/lib/python3.7/dist-packages/statsmodels/base/model.py:512: ConvergenceWarning: Maximum Likelihood optimization failed to converge. Check mle_retvals\n",
      "  \"Check mle_retvals\", ConvergenceWarning)\n"
     ]
    },
    {
     "name": "stdout",
     "output_type": "stream",
     "text": [
      "SARIMAX (1, 1, 0) x (2, 0, 0, 12)12 : BIC Calculated =175.022845959339\n"
     ]
    },
    {
     "name": "stderr",
     "output_type": "stream",
     "text": [
      "/usr/local/lib/python3.7/dist-packages/statsmodels/base/model.py:512: ConvergenceWarning: Maximum Likelihood optimization failed to converge. Check mle_retvals\n",
      "  \"Check mle_retvals\", ConvergenceWarning)\n"
     ]
    },
    {
     "name": "stdout",
     "output_type": "stream",
     "text": [
      "SARIMAX (1, 1, 0) x (2, 0, 1, 12)12 : BIC Calculated =176.99409888407894\n",
      "SARIMAX (1, 1, 0) x (2, 1, 0, 12)12 : BIC Calculated =-inf\n",
      "SARIMAX (1, 1, 1) x (0, 0, 0, 12)12 : BIC Calculated =606.4195462003987\n",
      "SARIMAX (1, 1, 1) x (0, 0, 1, 12)12 : BIC Calculated =63753718.375528574\n",
      "SARIMAX (1, 1, 1) x (0, 1, 0, 12)12 : BIC Calculated =351.0806995628295\n",
      "SARIMAX (1, 1, 1) x (0, 2, 0, 12)12 : BIC Calculated =162.15784029591583\n"
     ]
    },
    {
     "name": "stderr",
     "output_type": "stream",
     "text": [
      "/usr/local/lib/python3.7/dist-packages/statsmodels/base/model.py:512: ConvergenceWarning: Maximum Likelihood optimization failed to converge. Check mle_retvals\n",
      "  \"Check mle_retvals\", ConvergenceWarning)\n"
     ]
    },
    {
     "name": "stdout",
     "output_type": "stream",
     "text": [
      "SARIMAX (1, 1, 1) x (1, 0, 0, 12)12 : BIC Calculated =353.87163286239326\n"
     ]
    },
    {
     "name": "stderr",
     "output_type": "stream",
     "text": [
      "/usr/local/lib/python3.7/dist-packages/statsmodels/base/model.py:512: ConvergenceWarning: Maximum Likelihood optimization failed to converge. Check mle_retvals\n",
      "  \"Check mle_retvals\", ConvergenceWarning)\n"
     ]
    },
    {
     "name": "stdout",
     "output_type": "stream",
     "text": [
      "SARIMAX (1, 1, 1) x (1, 0, 1, 12)12 : BIC Calculated =340.5240363999813\n"
     ]
    },
    {
     "name": "stderr",
     "output_type": "stream",
     "text": [
      "/usr/local/lib/python3.7/dist-packages/statsmodels/base/model.py:512: ConvergenceWarning: Maximum Likelihood optimization failed to converge. Check mle_retvals\n",
      "  \"Check mle_retvals\", ConvergenceWarning)\n"
     ]
    },
    {
     "name": "stdout",
     "output_type": "stream",
     "text": [
      "SARIMAX (1, 1, 1) x (1, 1, 0, 12)12 : BIC Calculated =175.58472583851884\n",
      "SARIMAX (1, 1, 1) x (1, 2, 0, 12)12 : BIC Calculated =-inf\n"
     ]
    },
    {
     "name": "stderr",
     "output_type": "stream",
     "text": [
      "/usr/local/lib/python3.7/dist-packages/statsmodels/base/model.py:512: ConvergenceWarning: Maximum Likelihood optimization failed to converge. Check mle_retvals\n",
      "  \"Check mle_retvals\", ConvergenceWarning)\n"
     ]
    },
    {
     "name": "stdout",
     "output_type": "stream",
     "text": [
      "SARIMAX (1, 1, 1) x (2, 0, 0, 12)12 : BIC Calculated =177.9535258076258\n"
     ]
    },
    {
     "name": "stderr",
     "output_type": "stream",
     "text": [
      "/usr/local/lib/python3.7/dist-packages/statsmodels/base/model.py:512: ConvergenceWarning: Maximum Likelihood optimization failed to converge. Check mle_retvals\n",
      "  \"Check mle_retvals\", ConvergenceWarning)\n"
     ]
    },
    {
     "name": "stdout",
     "output_type": "stream",
     "text": [
      "SARIMAX (1, 1, 1) x (2, 0, 1, 12)12 : BIC Calculated =179.25981321700982\n",
      "SARIMAX (1, 1, 1) x (2, 1, 0, 12)12 : BIC Calculated =-inf\n",
      "SARIMAX (1, 1, 2) x (0, 0, 0, 12)12 : BIC Calculated =588.4297626176636\n",
      "SARIMAX (1, 1, 2) x (0, 0, 1, 12)12 : BIC Calculated =23221.134994604447\n",
      "SARIMAX (1, 1, 2) x (0, 1, 0, 12)12 : BIC Calculated =334.3835214419443\n"
     ]
    },
    {
     "name": "stderr",
     "output_type": "stream",
     "text": [
      "/usr/local/lib/python3.7/dist-packages/statsmodels/base/model.py:512: ConvergenceWarning: Maximum Likelihood optimization failed to converge. Check mle_retvals\n",
      "  \"Check mle_retvals\", ConvergenceWarning)\n"
     ]
    },
    {
     "name": "stdout",
     "output_type": "stream",
     "text": [
      "SARIMAX (1, 1, 2) x (0, 2, 0, 12)12 : BIC Calculated =149.14206116717764\n"
     ]
    },
    {
     "name": "stderr",
     "output_type": "stream",
     "text": [
      "/usr/local/lib/python3.7/dist-packages/statsmodels/base/model.py:512: ConvergenceWarning: Maximum Likelihood optimization failed to converge. Check mle_retvals\n",
      "  \"Check mle_retvals\", ConvergenceWarning)\n"
     ]
    },
    {
     "name": "stdout",
     "output_type": "stream",
     "text": [
      "SARIMAX (1, 1, 2) x (1, 0, 0, 12)12 : BIC Calculated =359.69611955214225\n"
     ]
    },
    {
     "name": "stderr",
     "output_type": "stream",
     "text": [
      "/usr/local/lib/python3.7/dist-packages/statsmodels/base/model.py:512: ConvergenceWarning: Maximum Likelihood optimization failed to converge. Check mle_retvals\n",
      "  \"Check mle_retvals\", ConvergenceWarning)\n"
     ]
    },
    {
     "name": "stdout",
     "output_type": "stream",
     "text": [
      "SARIMAX (1, 1, 2) x (1, 0, 1, 12)12 : BIC Calculated =331.95727448949424\n"
     ]
    },
    {
     "name": "stderr",
     "output_type": "stream",
     "text": [
      "/usr/local/lib/python3.7/dist-packages/statsmodels/base/model.py:512: ConvergenceWarning: Maximum Likelihood optimization failed to converge. Check mle_retvals\n",
      "  \"Check mle_retvals\", ConvergenceWarning)\n"
     ]
    },
    {
     "name": "stdout",
     "output_type": "stream",
     "text": [
      "SARIMAX (1, 1, 2) x (1, 1, 0, 12)12 : BIC Calculated =172.3109233376459\n",
      "SARIMAX (1, 1, 2) x (1, 2, 0, 12)12 : BIC Calculated =-inf\n"
     ]
    },
    {
     "name": "stderr",
     "output_type": "stream",
     "text": [
      "/usr/local/lib/python3.7/dist-packages/statsmodels/base/model.py:512: ConvergenceWarning: Maximum Likelihood optimization failed to converge. Check mle_retvals\n",
      "  \"Check mle_retvals\", ConvergenceWarning)\n"
     ]
    },
    {
     "name": "stdout",
     "output_type": "stream",
     "text": [
      "SARIMAX (1, 1, 2) x (2, 0, 0, 12)12 : BIC Calculated =175.07899546254606\n"
     ]
    },
    {
     "name": "stderr",
     "output_type": "stream",
     "text": [
      "/usr/local/lib/python3.7/dist-packages/statsmodels/base/model.py:512: ConvergenceWarning: Maximum Likelihood optimization failed to converge. Check mle_retvals\n",
      "  \"Check mle_retvals\", ConvergenceWarning)\n"
     ]
    },
    {
     "name": "stdout",
     "output_type": "stream",
     "text": [
      "SARIMAX (1, 1, 2) x (2, 0, 1, 12)12 : BIC Calculated =183.74678538828906\n",
      "SARIMAX (1, 1, 2) x (2, 1, 0, 12)12 : BIC Calculated =-inf\n",
      "SARIMAX (1, 2, 0) x (0, 0, 0, 12)12 : BIC Calculated =624.9738089511444\n",
      "SARIMAX (1, 2, 0) x (0, 1, 0, 12)12 : BIC Calculated =368.06340316872377\n",
      "SARIMAX (1, 2, 0) x (0, 2, 0, 12)12 : BIC Calculated =166.6191376231067\n",
      "SARIMAX (1, 2, 0) x (1, 0, 0, 12)12 : BIC Calculated =345.92713673546007\n",
      "SARIMAX (1, 2, 0) x (1, 1, 0, 12)12 : BIC Calculated =163.95817992061853\n"
     ]
    },
    {
     "name": "stderr",
     "output_type": "stream",
     "text": [
      "/usr/local/lib/python3.7/dist-packages/statsmodels/base/model.py:512: ConvergenceWarning: Maximum Likelihood optimization failed to converge. Check mle_retvals\n",
      "  \"Check mle_retvals\", ConvergenceWarning)\n"
     ]
    },
    {
     "name": "stdout",
     "output_type": "stream",
     "text": [
      "SARIMAX (1, 2, 0) x (2, 0, 0, 12)12 : BIC Calculated =166.96470364675457\n",
      "SARIMAX (1, 2, 1) x (0, 0, 0, 12)12 : BIC Calculated =598.8570562312299\n",
      "SARIMAX (1, 2, 1) x (0, 1, 0, 12)12 : BIC Calculated =346.49630024640675\n",
      "SARIMAX (1, 2, 1) x (0, 2, 0, 12)12 : BIC Calculated =152.41864195486443\n",
      "SARIMAX (1, 2, 1) x (1, 0, 0, 12)12 : BIC Calculated =340.49282515504586\n",
      "SARIMAX (1, 2, 1) x (1, 1, 0, 12)12 : BIC Calculated =161.95877129075532\n"
     ]
    },
    {
     "name": "stderr",
     "output_type": "stream",
     "text": [
      "/usr/local/lib/python3.7/dist-packages/statsmodels/base/model.py:512: ConvergenceWarning: Maximum Likelihood optimization failed to converge. Check mle_retvals\n",
      "  \"Check mle_retvals\", ConvergenceWarning)\n"
     ]
    },
    {
     "name": "stdout",
     "output_type": "stream",
     "text": [
      "SARIMAX (1, 2, 1) x (2, 0, 0, 12)12 : BIC Calculated =171.327561470809\n",
      "SARIMAX (1, 2, 2) x (0, 0, 0, 12)12 : BIC Calculated =580.4254754931294\n",
      "SARIMAX (1, 2, 2) x (0, 1, 0, 12)12 : BIC Calculated =331.93808736587954\n"
     ]
    },
    {
     "name": "stderr",
     "output_type": "stream",
     "text": [
      "/usr/local/lib/python3.7/dist-packages/statsmodels/base/model.py:512: ConvergenceWarning: Maximum Likelihood optimization failed to converge. Check mle_retvals\n",
      "  \"Check mle_retvals\", ConvergenceWarning)\n"
     ]
    },
    {
     "name": "stdout",
     "output_type": "stream",
     "text": [
      "SARIMAX (1, 2, 2) x (0, 2, 0, 12)12 : BIC Calculated =136.01827729943057\n"
     ]
    },
    {
     "name": "stderr",
     "output_type": "stream",
     "text": [
      "/usr/local/lib/python3.7/dist-packages/statsmodels/base/model.py:512: ConvergenceWarning: Maximum Likelihood optimization failed to converge. Check mle_retvals\n",
      "  \"Check mle_retvals\", ConvergenceWarning)\n"
     ]
    },
    {
     "name": "stdout",
     "output_type": "stream",
     "text": [
      "SARIMAX (1, 2, 2) x (1, 0, 0, 12)12 : BIC Calculated =347.3731548318021\n"
     ]
    },
    {
     "name": "stderr",
     "output_type": "stream",
     "text": [
      "/usr/local/lib/python3.7/dist-packages/statsmodels/base/model.py:512: ConvergenceWarning: Maximum Likelihood optimization failed to converge. Check mle_retvals\n",
      "  \"Check mle_retvals\", ConvergenceWarning)\n"
     ]
    },
    {
     "name": "stdout",
     "output_type": "stream",
     "text": [
      "SARIMAX (1, 2, 2) x (1, 1, 0, 12)12 : BIC Calculated =161.9565218563243\n"
     ]
    },
    {
     "name": "stderr",
     "output_type": "stream",
     "text": [
      "/usr/local/lib/python3.7/dist-packages/statsmodels/base/model.py:512: ConvergenceWarning: Maximum Likelihood optimization failed to converge. Check mle_retvals\n",
      "  \"Check mle_retvals\", ConvergenceWarning)\n"
     ]
    },
    {
     "name": "stdout",
     "output_type": "stream",
     "text": [
      "SARIMAX (1, 2, 2) x (2, 0, 0, 12)12 : BIC Calculated =164.17964301522034\n",
      "SARIMAX (2, 0, 0) x (0, 0, 0, 12)12 : BIC Calculated =647.3310596180811\n",
      "SARIMAX (2, 0, 0) x (0, 0, 1, 12)12 : BIC Calculated =1516.6587826839352\n",
      "SARIMAX (2, 0, 0) x (0, 1, 0, 12)12 : BIC Calculated =372.2835855990744\n",
      "SARIMAX (2, 0, 0) x (0, 2, 0, 12)12 : BIC Calculated =176.83972844169648\n"
     ]
    },
    {
     "name": "stderr",
     "output_type": "stream",
     "text": [
      "/usr/local/lib/python3.7/dist-packages/statsmodels/base/model.py:512: ConvergenceWarning: Maximum Likelihood optimization failed to converge. Check mle_retvals\n",
      "  \"Check mle_retvals\", ConvergenceWarning)\n"
     ]
    },
    {
     "name": "stdout",
     "output_type": "stream",
     "text": [
      "SARIMAX (2, 0, 0) x (1, 0, 0, 12)12 : BIC Calculated =437.75877817972764\n"
     ]
    },
    {
     "name": "stderr",
     "output_type": "stream",
     "text": [
      "/usr/local/lib/python3.7/dist-packages/statsmodels/base/model.py:512: ConvergenceWarning: Maximum Likelihood optimization failed to converge. Check mle_retvals\n",
      "  \"Check mle_retvals\", ConvergenceWarning)\n"
     ]
    },
    {
     "name": "stdout",
     "output_type": "stream",
     "text": [
      "SARIMAX (2, 0, 0) x (1, 0, 1, 12)12 : BIC Calculated =414.7234476972308\n"
     ]
    },
    {
     "name": "stderr",
     "output_type": "stream",
     "text": [
      "/usr/local/lib/python3.7/dist-packages/statsmodels/base/model.py:512: ConvergenceWarning: Maximum Likelihood optimization failed to converge. Check mle_retvals\n",
      "  \"Check mle_retvals\", ConvergenceWarning)\n"
     ]
    },
    {
     "name": "stdout",
     "output_type": "stream",
     "text": [
      "SARIMAX (2, 0, 0) x (1, 1, 0, 12)12 : BIC Calculated =194.25073215383622\n",
      "SARIMAX (2, 0, 0) x (1, 2, 0, 12)12 : BIC Calculated =-inf\n"
     ]
    },
    {
     "name": "stderr",
     "output_type": "stream",
     "text": [
      "/usr/local/lib/python3.7/dist-packages/statsmodels/base/model.py:512: ConvergenceWarning: Maximum Likelihood optimization failed to converge. Check mle_retvals\n",
      "  \"Check mle_retvals\", ConvergenceWarning)\n"
     ]
    },
    {
     "name": "stdout",
     "output_type": "stream",
     "text": [
      "SARIMAX (2, 0, 0) x (2, 0, 0, 12)12 : BIC Calculated =218.53154438263607\n"
     ]
    },
    {
     "name": "stderr",
     "output_type": "stream",
     "text": [
      "/usr/local/lib/python3.7/dist-packages/statsmodels/base/model.py:512: ConvergenceWarning: Maximum Likelihood optimization failed to converge. Check mle_retvals\n",
      "  \"Check mle_retvals\", ConvergenceWarning)\n"
     ]
    },
    {
     "name": "stdout",
     "output_type": "stream",
     "text": [
      "SARIMAX (2, 0, 0) x (2, 0, 1, 12)12 : BIC Calculated =236.74426988201068\n",
      "SARIMAX (2, 0, 0) x (2, 1, 0, 12)12 : BIC Calculated =-inf\n"
     ]
    },
    {
     "name": "stderr",
     "output_type": "stream",
     "text": [
      "/usr/local/lib/python3.7/dist-packages/statsmodels/base/model.py:512: ConvergenceWarning: Maximum Likelihood optimization failed to converge. Check mle_retvals\n",
      "  \"Check mle_retvals\", ConvergenceWarning)\n"
     ]
    },
    {
     "name": "stdout",
     "output_type": "stream",
     "text": [
      "SARIMAX (2, 0, 1) x (0, 0, 0, 12)12 : BIC Calculated =643.3143170512122\n",
      "SARIMAX (2, 0, 1) x (0, 0, 1, 12)12 : BIC Calculated =1964.2410918305375\n",
      "SARIMAX (2, 0, 1) x (0, 1, 0, 12)12 : BIC Calculated =395.70740536312957\n"
     ]
    },
    {
     "name": "stderr",
     "output_type": "stream",
     "text": [
      "/usr/local/lib/python3.7/dist-packages/statsmodels/base/model.py:512: ConvergenceWarning: Maximum Likelihood optimization failed to converge. Check mle_retvals\n",
      "  \"Check mle_retvals\", ConvergenceWarning)\n"
     ]
    },
    {
     "name": "stdout",
     "output_type": "stream",
     "text": [
      "SARIMAX (2, 0, 1) x (0, 2, 0, 12)12 : BIC Calculated =179.42306022190328\n"
     ]
    },
    {
     "name": "stderr",
     "output_type": "stream",
     "text": [
      "/usr/local/lib/python3.7/dist-packages/statsmodels/base/model.py:512: ConvergenceWarning: Maximum Likelihood optimization failed to converge. Check mle_retvals\n",
      "  \"Check mle_retvals\", ConvergenceWarning)\n"
     ]
    },
    {
     "name": "stdout",
     "output_type": "stream",
     "text": [
      "SARIMAX (2, 0, 1) x (1, 0, 0, 12)12 : BIC Calculated =417.16159687074827\n"
     ]
    },
    {
     "name": "stderr",
     "output_type": "stream",
     "text": [
      "/usr/local/lib/python3.7/dist-packages/statsmodels/base/model.py:512: ConvergenceWarning: Maximum Likelihood optimization failed to converge. Check mle_retvals\n",
      "  \"Check mle_retvals\", ConvergenceWarning)\n"
     ]
    },
    {
     "name": "stdout",
     "output_type": "stream",
     "text": [
      "SARIMAX (2, 0, 1) x (1, 0, 1, 12)12 : BIC Calculated =415.3188135633461\n",
      "SARIMAX (2, 0, 1) x (1, 1, 0, 12)12 : BIC Calculated =195.3199366424489\n",
      "SARIMAX (2, 0, 1) x (1, 2, 0, 12)12 : BIC Calculated =-inf\n"
     ]
    },
    {
     "name": "stderr",
     "output_type": "stream",
     "text": [
      "/usr/local/lib/python3.7/dist-packages/statsmodels/base/model.py:512: ConvergenceWarning: Maximum Likelihood optimization failed to converge. Check mle_retvals\n",
      "  \"Check mle_retvals\", ConvergenceWarning)\n"
     ]
    },
    {
     "name": "stdout",
     "output_type": "stream",
     "text": [
      "SARIMAX (2, 0, 1) x (2, 0, 0, 12)12 : BIC Calculated =213.2349900753976\n"
     ]
    },
    {
     "name": "stderr",
     "output_type": "stream",
     "text": [
      "/usr/local/lib/python3.7/dist-packages/statsmodels/base/model.py:512: ConvergenceWarning: Maximum Likelihood optimization failed to converge. Check mle_retvals\n",
      "  \"Check mle_retvals\", ConvergenceWarning)\n"
     ]
    },
    {
     "name": "stdout",
     "output_type": "stream",
     "text": [
      "SARIMAX (2, 0, 1) x (2, 0, 1, 12)12 : BIC Calculated =228.7601278400055\n",
      "SARIMAX (2, 0, 1) x (2, 1, 0, 12)12 : BIC Calculated =-inf\n",
      "SARIMAX (2, 0, 2) x (0, 0, 0, 12)12 : BIC Calculated =656.8741414780238\n",
      "SARIMAX (2, 0, 2) x (0, 0, 1, 12)12 : BIC Calculated =1934.9339693479685\n"
     ]
    },
    {
     "name": "stderr",
     "output_type": "stream",
     "text": [
      "/usr/local/lib/python3.7/dist-packages/statsmodels/base/model.py:512: ConvergenceWarning: Maximum Likelihood optimization failed to converge. Check mle_retvals\n",
      "  \"Check mle_retvals\", ConvergenceWarning)\n"
     ]
    },
    {
     "name": "stdout",
     "output_type": "stream",
     "text": [
      "SARIMAX (2, 0, 2) x (0, 1, 0, 12)12 : BIC Calculated =374.2777135667388\n"
     ]
    },
    {
     "name": "stderr",
     "output_type": "stream",
     "text": [
      "/usr/local/lib/python3.7/dist-packages/statsmodels/base/model.py:512: ConvergenceWarning: Maximum Likelihood optimization failed to converge. Check mle_retvals\n",
      "  \"Check mle_retvals\", ConvergenceWarning)\n"
     ]
    },
    {
     "name": "stdout",
     "output_type": "stream",
     "text": [
      "SARIMAX (2, 0, 2) x (0, 2, 0, 12)12 : BIC Calculated =163.90804974603708\n",
      "SARIMAX (2, 0, 2) x (1, 0, 0, 12)12 : BIC Calculated =461.99755367824184\n"
     ]
    },
    {
     "name": "stderr",
     "output_type": "stream",
     "text": [
      "/usr/local/lib/python3.7/dist-packages/statsmodels/base/model.py:512: ConvergenceWarning: Maximum Likelihood optimization failed to converge. Check mle_retvals\n",
      "  \"Check mle_retvals\", ConvergenceWarning)\n"
     ]
    },
    {
     "name": "stdout",
     "output_type": "stream",
     "text": [
      "SARIMAX (2, 0, 2) x (1, 0, 1, 12)12 : BIC Calculated =394.5395007223977\n"
     ]
    },
    {
     "name": "stderr",
     "output_type": "stream",
     "text": [
      "/usr/local/lib/python3.7/dist-packages/statsmodels/base/model.py:512: ConvergenceWarning: Maximum Likelihood optimization failed to converge. Check mle_retvals\n",
      "  \"Check mle_retvals\", ConvergenceWarning)\n"
     ]
    },
    {
     "name": "stdout",
     "output_type": "stream",
     "text": [
      "SARIMAX (2, 0, 2) x (1, 1, 0, 12)12 : BIC Calculated =200.9820719655771\n",
      "SARIMAX (2, 0, 2) x (1, 2, 0, 12)12 : BIC Calculated =-inf\n"
     ]
    },
    {
     "name": "stderr",
     "output_type": "stream",
     "text": [
      "/usr/local/lib/python3.7/dist-packages/statsmodels/base/model.py:512: ConvergenceWarning: Maximum Likelihood optimization failed to converge. Check mle_retvals\n",
      "  \"Check mle_retvals\", ConvergenceWarning)\n"
     ]
    },
    {
     "name": "stdout",
     "output_type": "stream",
     "text": [
      "SARIMAX (2, 0, 2) x (2, 0, 0, 12)12 : BIC Calculated =229.5839051737102\n"
     ]
    },
    {
     "name": "stderr",
     "output_type": "stream",
     "text": [
      "/usr/local/lib/python3.7/dist-packages/statsmodels/base/model.py:512: ConvergenceWarning: Maximum Likelihood optimization failed to converge. Check mle_retvals\n",
      "  \"Check mle_retvals\", ConvergenceWarning)\n"
     ]
    },
    {
     "name": "stdout",
     "output_type": "stream",
     "text": [
      "SARIMAX (2, 0, 2) x (2, 0, 1, 12)12 : BIC Calculated =248.62340456799168\n",
      "SARIMAX (2, 0, 2) x (2, 1, 0, 12)12 : BIC Calculated =-inf\n",
      "SARIMAX (2, 1, 0) x (0, 0, 0, 12)12 : BIC Calculated =603.7112949673162\n"
     ]
    },
    {
     "name": "stderr",
     "output_type": "stream",
     "text": [
      "/usr/local/lib/python3.7/dist-packages/statsmodels/base/model.py:512: ConvergenceWarning: Maximum Likelihood optimization failed to converge. Check mle_retvals\n",
      "  \"Check mle_retvals\", ConvergenceWarning)\n"
     ]
    },
    {
     "name": "stdout",
     "output_type": "stream",
     "text": [
      "SARIMAX (2, 1, 0) x (0, 0, 1, 12)12 : BIC Calculated =1263.707813954744\n",
      "SARIMAX (2, 1, 0) x (0, 1, 0, 12)12 : BIC Calculated =354.4480299066755\n",
      "SARIMAX (2, 1, 0) x (0, 2, 0, 12)12 : BIC Calculated =163.0480869107248\n",
      "SARIMAX (2, 1, 0) x (1, 0, 0, 12)12 : BIC Calculated =336.5831016489512\n"
     ]
    },
    {
     "name": "stderr",
     "output_type": "stream",
     "text": [
      "/usr/local/lib/python3.7/dist-packages/statsmodels/base/model.py:512: ConvergenceWarning: Maximum Likelihood optimization failed to converge. Check mle_retvals\n",
      "  \"Check mle_retvals\", ConvergenceWarning)\n"
     ]
    },
    {
     "name": "stdout",
     "output_type": "stream",
     "text": [
      "SARIMAX (2, 1, 0) x (1, 0, 1, 12)12 : BIC Calculated =339.70869667944066\n",
      "SARIMAX (2, 1, 0) x (1, 1, 0, 12)12 : BIC Calculated =161.1435864162606\n",
      "SARIMAX (2, 1, 0) x (1, 2, 0, 12)12 : BIC Calculated =nan\n"
     ]
    },
    {
     "name": "stderr",
     "output_type": "stream",
     "text": [
      "/usr/local/lib/python3.7/dist-packages/statsmodels/tools/eval_measures.py:386: RuntimeWarning: invalid value encountered in log\n",
      "  return -2. * llf + np.log(nobs) * df_modelwc\n",
      "/usr/local/lib/python3.7/dist-packages/statsmodels/base/model.py:512: ConvergenceWarning: Maximum Likelihood optimization failed to converge. Check mle_retvals\n",
      "  \"Check mle_retvals\", ConvergenceWarning)\n"
     ]
    },
    {
     "name": "stdout",
     "output_type": "stream",
     "text": [
      "SARIMAX (2, 1, 0) x (2, 0, 0, 12)12 : BIC Calculated =163.9226693740322\n"
     ]
    },
    {
     "name": "stderr",
     "output_type": "stream",
     "text": [
      "/usr/local/lib/python3.7/dist-packages/statsmodels/base/model.py:512: ConvergenceWarning: Maximum Likelihood optimization failed to converge. Check mle_retvals\n",
      "  \"Check mle_retvals\", ConvergenceWarning)\n"
     ]
    },
    {
     "name": "stdout",
     "output_type": "stream",
     "text": [
      "SARIMAX (2, 1, 0) x (2, 0, 1, 12)12 : BIC Calculated =171.61962776666505\n",
      "SARIMAX (2, 1, 0) x (2, 1, 0, 12)12 : BIC Calculated =nan\n",
      "SARIMAX (2, 1, 1) x (0, 0, 0, 12)12 : BIC Calculated =604.78656628067\n",
      "SARIMAX (2, 1, 1) x (0, 0, 1, 12)12 : BIC Calculated =2068.6274131309583\n",
      "SARIMAX (2, 1, 1) x (0, 1, 0, 12)12 : BIC Calculated =350.10109744313036\n"
     ]
    },
    {
     "name": "stderr",
     "output_type": "stream",
     "text": [
      "/usr/local/lib/python3.7/dist-packages/statsmodels/base/model.py:512: ConvergenceWarning: Maximum Likelihood optimization failed to converge. Check mle_retvals\n",
      "  \"Check mle_retvals\", ConvergenceWarning)\n"
     ]
    },
    {
     "name": "stdout",
     "output_type": "stream",
     "text": [
      "SARIMAX (2, 1, 1) x (0, 2, 0, 12)12 : BIC Calculated =165.04989775188392\n"
     ]
    },
    {
     "name": "stderr",
     "output_type": "stream",
     "text": [
      "/usr/local/lib/python3.7/dist-packages/statsmodels/base/model.py:512: ConvergenceWarning: Maximum Likelihood optimization failed to converge. Check mle_retvals\n",
      "  \"Check mle_retvals\", ConvergenceWarning)\n"
     ]
    },
    {
     "name": "stdout",
     "output_type": "stream",
     "text": [
      "SARIMAX (2, 1, 1) x (1, 0, 0, 12)12 : BIC Calculated =339.5607218075328\n"
     ]
    },
    {
     "name": "stderr",
     "output_type": "stream",
     "text": [
      "/usr/local/lib/python3.7/dist-packages/statsmodels/base/model.py:512: ConvergenceWarning: Maximum Likelihood optimization failed to converge. Check mle_retvals\n",
      "  \"Check mle_retvals\", ConvergenceWarning)\n"
     ]
    },
    {
     "name": "stdout",
     "output_type": "stream",
     "text": [
      "SARIMAX (2, 1, 1) x (1, 0, 1, 12)12 : BIC Calculated =350.345612027936\n"
     ]
    },
    {
     "name": "stderr",
     "output_type": "stream",
     "text": [
      "/usr/local/lib/python3.7/dist-packages/statsmodels/base/model.py:512: ConvergenceWarning: Maximum Likelihood optimization failed to converge. Check mle_retvals\n",
      "  \"Check mle_retvals\", ConvergenceWarning)\n"
     ]
    },
    {
     "name": "stdout",
     "output_type": "stream",
     "text": [
      "SARIMAX (2, 1, 1) x (1, 1, 0, 12)12 : BIC Calculated =163.2616669014679\n",
      "SARIMAX (2, 1, 1) x (1, 2, 0, 12)12 : BIC Calculated =nan\n"
     ]
    },
    {
     "name": "stderr",
     "output_type": "stream",
     "text": [
      "/usr/local/lib/python3.7/dist-packages/statsmodels/base/model.py:512: ConvergenceWarning: Maximum Likelihood optimization failed to converge. Check mle_retvals\n",
      "  \"Check mle_retvals\", ConvergenceWarning)\n"
     ]
    },
    {
     "name": "stdout",
     "output_type": "stream",
     "text": [
      "SARIMAX (2, 1, 1) x (2, 0, 0, 12)12 : BIC Calculated =174.3036991210236\n"
     ]
    },
    {
     "name": "stderr",
     "output_type": "stream",
     "text": [
      "/usr/local/lib/python3.7/dist-packages/statsmodels/base/model.py:512: ConvergenceWarning: Maximum Likelihood optimization failed to converge. Check mle_retvals\n",
      "  \"Check mle_retvals\", ConvergenceWarning)\n"
     ]
    },
    {
     "name": "stdout",
     "output_type": "stream",
     "text": [
      "SARIMAX (2, 1, 1) x (2, 0, 1, 12)12 : BIC Calculated =179.03147000755575\n",
      "SARIMAX (2, 1, 1) x (2, 1, 0, 12)12 : BIC Calculated =nan\n",
      "SARIMAX (2, 1, 2) x (0, 0, 0, 12)12 : BIC Calculated =577.9683750991989\n"
     ]
    },
    {
     "name": "stderr",
     "output_type": "stream",
     "text": [
      "/usr/local/lib/python3.7/dist-packages/statsmodels/base/model.py:512: ConvergenceWarning: Maximum Likelihood optimization failed to converge. Check mle_retvals\n",
      "  \"Check mle_retvals\", ConvergenceWarning)\n"
     ]
    },
    {
     "name": "stdout",
     "output_type": "stream",
     "text": [
      "SARIMAX (2, 1, 2) x (0, 0, 1, 12)12 : BIC Calculated =1880.2127910974305\n",
      "SARIMAX (2, 1, 2) x (0, 1, 0, 12)12 : BIC Calculated =337.4723439348801\n"
     ]
    },
    {
     "name": "stderr",
     "output_type": "stream",
     "text": [
      "/usr/local/lib/python3.7/dist-packages/statsmodels/base/model.py:512: ConvergenceWarning: Maximum Likelihood optimization failed to converge. Check mle_retvals\n",
      "  \"Check mle_retvals\", ConvergenceWarning)\n"
     ]
    },
    {
     "name": "stdout",
     "output_type": "stream",
     "text": [
      "SARIMAX (2, 1, 2) x (0, 2, 0, 12)12 : BIC Calculated =151.5888710188288\n"
     ]
    },
    {
     "name": "stderr",
     "output_type": "stream",
     "text": [
      "/usr/local/lib/python3.7/dist-packages/statsmodels/base/model.py:512: ConvergenceWarning: Maximum Likelihood optimization failed to converge. Check mle_retvals\n",
      "  \"Check mle_retvals\", ConvergenceWarning)\n"
     ]
    },
    {
     "name": "stdout",
     "output_type": "stream",
     "text": [
      "SARIMAX (2, 1, 2) x (1, 0, 0, 12)12 : BIC Calculated =351.1585217634949\n"
     ]
    },
    {
     "name": "stderr",
     "output_type": "stream",
     "text": [
      "/usr/local/lib/python3.7/dist-packages/statsmodels/base/model.py:512: ConvergenceWarning: Maximum Likelihood optimization failed to converge. Check mle_retvals\n",
      "  \"Check mle_retvals\", ConvergenceWarning)\n"
     ]
    },
    {
     "name": "stdout",
     "output_type": "stream",
     "text": [
      "SARIMAX (2, 1, 2) x (1, 0, 1, 12)12 : BIC Calculated =339.90588279023564\n"
     ]
    },
    {
     "name": "stderr",
     "output_type": "stream",
     "text": [
      "/usr/local/lib/python3.7/dist-packages/statsmodels/base/model.py:512: ConvergenceWarning: Maximum Likelihood optimization failed to converge. Check mle_retvals\n",
      "  \"Check mle_retvals\", ConvergenceWarning)\n"
     ]
    },
    {
     "name": "stdout",
     "output_type": "stream",
     "text": [
      "SARIMAX (2, 1, 2) x (1, 1, 0, 12)12 : BIC Calculated =160.5541739034645\n",
      "SARIMAX (2, 1, 2) x (1, 2, 0, 12)12 : BIC Calculated =nan\n"
     ]
    },
    {
     "name": "stderr",
     "output_type": "stream",
     "text": [
      "/usr/local/lib/python3.7/dist-packages/statsmodels/base/model.py:512: ConvergenceWarning: Maximum Likelihood optimization failed to converge. Check mle_retvals\n",
      "  \"Check mle_retvals\", ConvergenceWarning)\n"
     ]
    },
    {
     "name": "stdout",
     "output_type": "stream",
     "text": [
      "SARIMAX (2, 1, 2) x (2, 0, 0, 12)12 : BIC Calculated =177.07678754499693\n"
     ]
    },
    {
     "name": "stderr",
     "output_type": "stream",
     "text": [
      "/usr/local/lib/python3.7/dist-packages/statsmodels/base/model.py:512: ConvergenceWarning: Maximum Likelihood optimization failed to converge. Check mle_retvals\n",
      "  \"Check mle_retvals\", ConvergenceWarning)\n"
     ]
    },
    {
     "name": "stdout",
     "output_type": "stream",
     "text": [
      "SARIMAX (2, 1, 2) x (2, 0, 1, 12)12 : BIC Calculated =181.75291282480467\n",
      "SARIMAX (2, 1, 2) x (2, 1, 0, 12)12 : BIC Calculated =nan\n",
      "SARIMAX (2, 2, 0) x (0, 0, 0, 12)12 : BIC Calculated =600.3931093098533\n",
      "SARIMAX (2, 2, 0) x (0, 1, 0, 12)12 : BIC Calculated =349.99383433782214\n",
      "SARIMAX (2, 2, 0) x (0, 2, 0, 12)12 : BIC Calculated =152.15965443162523\n",
      "SARIMAX (2, 2, 0) x (1, 0, 0, 12)12 : BIC Calculated =329.30848811207227\n",
      "SARIMAX (2, 2, 0) x (1, 1, 0, 12)12 : BIC Calculated =146.3527147838617\n"
     ]
    },
    {
     "name": "stderr",
     "output_type": "stream",
     "text": [
      "/usr/local/lib/python3.7/dist-packages/statsmodels/base/model.py:512: ConvergenceWarning: Maximum Likelihood optimization failed to converge. Check mle_retvals\n",
      "  \"Check mle_retvals\", ConvergenceWarning)\n",
      "/usr/local/lib/python3.7/dist-packages/statsmodels/base/model.py:512: ConvergenceWarning: Maximum Likelihood optimization failed to converge. Check mle_retvals\n",
      "  \"Check mle_retvals\", ConvergenceWarning)\n"
     ]
    },
    {
     "name": "stdout",
     "output_type": "stream",
     "text": [
      "SARIMAX (2, 2, 0) x (2, 0, 0, 12)12 : BIC Calculated =149.2514368507803\n",
      "SARIMAX (2, 2, 1) x (0, 0, 0, 12)12 : BIC Calculated =588.8835902725252\n",
      "SARIMAX (2, 2, 1) x (0, 1, 0, 12)12 : BIC Calculated =346.6586945305434\n",
      "SARIMAX (2, 2, 1) x (0, 2, 0, 12)12 : BIC Calculated =153.2651616240521\n"
     ]
    },
    {
     "name": "stderr",
     "output_type": "stream",
     "text": [
      "/usr/local/lib/python3.7/dist-packages/statsmodels/base/model.py:512: ConvergenceWarning: Maximum Likelihood optimization failed to converge. Check mle_retvals\n",
      "  \"Check mle_retvals\", ConvergenceWarning)\n"
     ]
    },
    {
     "name": "stdout",
     "output_type": "stream",
     "text": [
      "SARIMAX (2, 2, 1) x (1, 0, 0, 12)12 : BIC Calculated =327.7405331422218\n",
      "SARIMAX (2, 2, 1) x (1, 1, 0, 12)12 : BIC Calculated =147.64368081542418\n"
     ]
    },
    {
     "name": "stderr",
     "output_type": "stream",
     "text": [
      "/usr/local/lib/python3.7/dist-packages/statsmodels/base/model.py:512: ConvergenceWarning: Maximum Likelihood optimization failed to converge. Check mle_retvals\n",
      "  \"Check mle_retvals\", ConvergenceWarning)\n",
      "/usr/local/lib/python3.7/dist-packages/statsmodels/base/model.py:512: ConvergenceWarning: Maximum Likelihood optimization failed to converge. Check mle_retvals\n",
      "  \"Check mle_retvals\", ConvergenceWarning)\n"
     ]
    },
    {
     "name": "stdout",
     "output_type": "stream",
     "text": [
      "SARIMAX (2, 2, 1) x (2, 0, 0, 12)12 : BIC Calculated =154.4498021102466\n",
      "SARIMAX (2, 2, 2) x (0, 0, 0, 12)12 : BIC Calculated =576.6448545080608\n"
     ]
    },
    {
     "name": "stderr",
     "output_type": "stream",
     "text": [
      "/usr/local/lib/python3.7/dist-packages/statsmodels/base/model.py:512: ConvergenceWarning: Maximum Likelihood optimization failed to converge. Check mle_retvals\n",
      "  \"Check mle_retvals\", ConvergenceWarning)\n"
     ]
    },
    {
     "name": "stdout",
     "output_type": "stream",
     "text": [
      "SARIMAX (2, 2, 2) x (0, 1, 0, 12)12 : BIC Calculated =333.59859280685794\n"
     ]
    },
    {
     "name": "stderr",
     "output_type": "stream",
     "text": [
      "/usr/local/lib/python3.7/dist-packages/statsmodels/base/model.py:512: ConvergenceWarning: Maximum Likelihood optimization failed to converge. Check mle_retvals\n",
      "  \"Check mle_retvals\", ConvergenceWarning)\n"
     ]
    },
    {
     "name": "stdout",
     "output_type": "stream",
     "text": [
      "SARIMAX (2, 2, 2) x (0, 2, 0, 12)12 : BIC Calculated =136.469689412442\n"
     ]
    },
    {
     "name": "stderr",
     "output_type": "stream",
     "text": [
      "/usr/local/lib/python3.7/dist-packages/statsmodels/base/model.py:512: ConvergenceWarning: Maximum Likelihood optimization failed to converge. Check mle_retvals\n",
      "  \"Check mle_retvals\", ConvergenceWarning)\n"
     ]
    },
    {
     "name": "stdout",
     "output_type": "stream",
     "text": [
      "SARIMAX (2, 2, 2) x (1, 0, 0, 12)12 : BIC Calculated =339.0356645718572\n"
     ]
    },
    {
     "name": "stderr",
     "output_type": "stream",
     "text": [
      "/usr/local/lib/python3.7/dist-packages/statsmodels/base/model.py:512: ConvergenceWarning: Maximum Likelihood optimization failed to converge. Check mle_retvals\n",
      "  \"Check mle_retvals\", ConvergenceWarning)\n"
     ]
    },
    {
     "name": "stdout",
     "output_type": "stream",
     "text": [
      "SARIMAX (2, 2, 2) x (1, 1, 0, 12)12 : BIC Calculated =146.11027959458312\n",
      "SARIMAX (2, 2, 2) x (2, 0, 0, 12)12 : BIC Calculated =153.9203231352979\n"
     ]
    },
    {
     "name": "stderr",
     "output_type": "stream",
     "text": [
      "/usr/local/lib/python3.7/dist-packages/statsmodels/base/model.py:512: ConvergenceWarning: Maximum Likelihood optimization failed to converge. Check mle_retvals\n",
      "  \"Check mle_retvals\", ConvergenceWarning)\n"
     ]
    },
    {
     "data": {
      "text/html": [
       "<div>\n",
       "<style scoped>\n",
       "    .dataframe tbody tr th:only-of-type {\n",
       "        vertical-align: middle;\n",
       "    }\n",
       "\n",
       "    .dataframe tbody tr th {\n",
       "        vertical-align: top;\n",
       "    }\n",
       "\n",
       "    .dataframe thead th {\n",
       "        text-align: right;\n",
       "    }\n",
       "</style>\n",
       "<table border=\"1\" class=\"dataframe\">\n",
       "  <thead>\n",
       "    <tr style=\"text-align: right;\">\n",
       "      <th></th>\n",
       "      <th>pdq</th>\n",
       "      <th>pdqs</th>\n",
       "      <th>bic</th>\n",
       "    </tr>\n",
       "  </thead>\n",
       "  <tbody>\n",
       "    <tr>\n",
       "      <th>10</th>\n",
       "      <td>(0, 0, 0)</td>\n",
       "      <td>(2, 1, 0, 12)</td>\n",
       "      <td>-39.603359</td>\n",
       "    </tr>\n",
       "    <tr>\n",
       "      <th>7</th>\n",
       "      <td>(0, 0, 0)</td>\n",
       "      <td>(1, 2, 0, 12)</td>\n",
       "      <td>-18.889702</td>\n",
       "    </tr>\n",
       "    <tr>\n",
       "      <th>51</th>\n",
       "      <td>(0, 1, 1)</td>\n",
       "      <td>(1, 2, 0, 12)</td>\n",
       "      <td>-13.723444</td>\n",
       "    </tr>\n",
       "    <tr>\n",
       "      <th>91</th>\n",
       "      <td>(1, 0, 0)</td>\n",
       "      <td>(1, 2, 0, 12)</td>\n",
       "      <td>-6.680446</td>\n",
       "    </tr>\n",
       "    <tr>\n",
       "      <th>113</th>\n",
       "      <td>(1, 0, 2)</td>\n",
       "      <td>(1, 2, 0, 12)</td>\n",
       "      <td>-6.143246</td>\n",
       "    </tr>\n",
       "    <tr>\n",
       "      <th>94</th>\n",
       "      <td>(1, 0, 0)</td>\n",
       "      <td>(2, 1, 0, 12)</td>\n",
       "      <td>-5.531506</td>\n",
       "    </tr>\n",
       "    <tr>\n",
       "      <th>62</th>\n",
       "      <td>(0, 1, 2)</td>\n",
       "      <td>(1, 2, 0, 12)</td>\n",
       "      <td>-1.129786</td>\n",
       "    </tr>\n",
       "    <tr>\n",
       "      <th>65</th>\n",
       "      <td>(0, 1, 2)</td>\n",
       "      <td>(2, 1, 0, 12)</td>\n",
       "      <td>4.475051</td>\n",
       "    </tr>\n",
       "    <tr>\n",
       "      <th>29</th>\n",
       "      <td>(0, 0, 2)</td>\n",
       "      <td>(1, 2, 0, 12)</td>\n",
       "      <td>5.718880</td>\n",
       "    </tr>\n",
       "    <tr>\n",
       "      <th>54</th>\n",
       "      <td>(0, 1, 1)</td>\n",
       "      <td>(2, 1, 0, 12)</td>\n",
       "      <td>7.316134</td>\n",
       "    </tr>\n",
       "  </tbody>\n",
       "</table>\n",
       "</div>"
      ],
      "text/plain": [
       "           pdq           pdqs        bic\n",
       "10   (0, 0, 0)  (2, 1, 0, 12) -39.603359\n",
       "7    (0, 0, 0)  (1, 2, 0, 12) -18.889702\n",
       "51   (0, 1, 1)  (1, 2, 0, 12) -13.723444\n",
       "91   (1, 0, 0)  (1, 2, 0, 12)  -6.680446\n",
       "113  (1, 0, 2)  (1, 2, 0, 12)  -6.143246\n",
       "94   (1, 0, 0)  (2, 1, 0, 12)  -5.531506\n",
       "62   (0, 1, 2)  (1, 2, 0, 12)  -1.129786\n",
       "65   (0, 1, 2)  (2, 1, 0, 12)   4.475051\n",
       "29   (0, 0, 2)  (1, 2, 0, 12)   5.718880\n",
       "54   (0, 1, 1)  (2, 1, 0, 12)   7.316134"
      ]
     },
     "execution_count": 51,
     "metadata": {
      "tags": []
     },
     "output_type": "execute_result"
    }
   ],
   "source": [
    "### Run Grid Search ###\n",
    "\n",
    "# Note: this code will take a while to run\n",
    "\n",
    "def sarimax_gridsearch(endog, exog, pdq, pdqs, maxiter=50):\n",
    "    '''\n",
    "    Input: \n",
    "        endog : the time series data of monthly orders\n",
    "        exog: the time series of the covid affectedness\n",
    "        pdq : ARIMA combinations from above\n",
    "        pdqs : seasonal ARIMA combinations from above\n",
    "        maxiter : number of iterations\n",
    "        \n",
    "    Return:\n",
    "        Prints out top 5 parameter combinations\n",
    "        Returns dataframe of parameter combinations ranked by BIC\n",
    "    '''\n",
    "\n",
    "    # Run a grid search with pdq and seasonal pdq parameters and get the best BIC value\n",
    "    ans = []\n",
    "    for comb in pdq:\n",
    "        for combs in pdqs:\n",
    "            try:\n",
    "                mod = sm.tsa.statespace.SARIMAX(endog, # this is your time series you will input\n",
    "                                                exog,\n",
    "                                                order=comb,\n",
    "                                                seasonal_order=combs,\n",
    "                                                enforce_stationarity=False,\n",
    "                                                enforce_invertibility=False)\n",
    "\n",
    "                output = mod.fit(maxiter=maxiter) \n",
    "                ans.append([comb, combs, output.bic])\n",
    "                print('SARIMAX {} x {}12 : BIC Calculated ={}'.format(comb, combs, output.bic))\n",
    "            except:\n",
    "                continue\n",
    "            \n",
    "    # Find the parameters with minimal BIC value\n",
    "\n",
    "    # Convert into dataframe\n",
    "    ans_df = pd.DataFrame(ans, columns=['pdq', 'pdqs', 'bic'])\n",
    "\n",
    "    # Sort and return top 5 combinations\n",
    "    ans_df = ans_df.sort_values(by=['bic'],ascending=True)\n",
    "    ans_df = ans_df[ans_df['bic'] > -np.inf][0:10]\n",
    "    \n",
    "    return ans_df\n",
    "    \n",
    "\n",
    "endog = list(month_dict.values())\n",
    "exog = list(covid_dict.values())\n",
    "\n",
    "sarimax_gridsearch(endog, exog, pdq, pdqs)"
   ]
  },
  {
   "cell_type": "markdown",
   "metadata": {},
   "source": [
    "### Prediction"
   ]
  },
  {
   "cell_type": "code",
   "execution_count": 80,
   "metadata": {
    "colab": {
     "base_uri": "https://localhost:8080/"
    },
    "id": "XYQzq6s6Ovzr",
    "outputId": "4193f83f-0924-4519-e3de-2f085b849801"
   },
   "outputs": [
    {
     "name": "stdout",
     "output_type": "stream",
     "text": [
      "                                 Statespace Model Results                                 \n",
      "==========================================================================================\n",
      "Dep. Variable:                                  y   No. Observations:                   38\n",
      "Model:             SARIMAX(0, 1, 1)x(1, 2, 0, 12)   Log Likelihood                   6.862\n",
      "Date:                            Wed, 24 Mar 2021   AIC                             -5.723\n",
      "Time:                                    16:05:33   BIC                            -13.723\n",
      "Sample:                                         0   HQIC                              -inf\n",
      "                                             - 38                                         \n",
      "Covariance Type:                              opg                                         \n",
      "==============================================================================\n",
      "                 coef    std err          z      P>|z|      [0.025      0.975]\n",
      "------------------------------------------------------------------------------\n",
      "x1          -931.2209   3.48e-10  -2.68e+12      0.000    -931.221    -931.221\n",
      "ma.L1          0.0152   1.29e-15   1.17e+13      0.000       0.015       0.015\n",
      "ar.S.L12      -0.6572   9.01e-08  -7.29e+06      0.000      -0.657      -0.657\n",
      "sigma2      1.078e-07   3.95e-07      0.272      0.785   -6.67e-07    8.83e-07\n",
      "===================================================================================\n",
      "Ljung-Box (Q):                         nan   Jarque-Bera (JB):                 0.38\n",
      "Prob(Q):                               nan   Prob(JB):                         0.83\n",
      "Heteroskedasticity (H):                nan   Skew:                             0.00\n",
      "Prob(H) (two-sided):                   nan   Kurtosis:                         0.00\n",
      "===================================================================================\n",
      "\n",
      "Warnings:\n",
      "[1] Covariance matrix calculated using the outer product of gradients (complex-step).\n",
      "[2] Covariance matrix is singular or near-singular, with condition number 6.68e+32. Standard errors may be unstable.\n"
     ]
    },
    {
     "name": "stderr",
     "output_type": "stream",
     "text": [
      "/usr/local/lib/python3.7/dist-packages/statsmodels/tsa/statespace/mlemodel.py:2220: UserWarning: Later subset of data for variable 0  has too few non-missing observations to calculate test statistic.\n",
      "  ' calculate test statistic.' % i)\n",
      "/usr/local/lib/python3.7/dist-packages/statsmodels/tools/eval_measures.py:411: RuntimeWarning: divide by zero encountered in log\n",
      "  return -2. * llf + 2 * np.log(np.log(nobs)) * df_modelwc\n"
     ]
    }
   ],
   "source": [
    "endog = list(month_dict.values())\n",
    "exog = list(covid_dict.values())[:-1]\n",
    "# df = pd.DataFrame.from_dict(month_dict, orient= \"index\", columns =[\"Orders\"])\n",
    "model = sm.tsa.statespace.SARIMAX(endog, \n",
    "                                  exog,\n",
    "                                  order=(0,1,1),\n",
    "                                  seasonal_order=(1,2,0,12),\n",
    "                                  enforce_stationarity=False,\n",
    "                                  enforce_invertibility=False)\n",
    "                                    \n",
    "# Fit the model\n",
    "output = model.fit()\n",
    "    \n",
    "# Print output summary\n",
    "print(output.summary())\n",
    "\n",
    "# Plot diagnostics\n",
    "# output.plot_diagnostics(figsize=(16,10));"
   ]
  },
  {
   "cell_type": "code",
   "execution_count": 81,
   "metadata": {
    "colab": {
     "base_uri": "https://localhost:8080/",
     "height": 330
    },
    "id": "S_ulkPqrWNJb",
    "outputId": "1c709e11-7cfd-40e5-8400-039d6e83c80b"
   },
   "outputs": [
    {
     "data": {
      "text/plain": [
       "<BarContainer object of 38 artists>"
      ]
     },
     "execution_count": 81,
     "metadata": {
      "tags": []
     },
     "output_type": "execute_result"
    },
    {
     "data": {
      "image/png": "[encoded data removed]",
      "text/plain": [
       "<Figure size 432x288 with 1 Axes>"
      ]
     },
     "metadata": {
      "needs_background": "light",
      "tags": []
     },
     "output_type": "display_data"
    }
   ],
   "source": [
    "prediction = output.predict(start = 0,exog=exog, dynamic=False)\n",
    "plt.xticks(rotation = \"vertical\")\n",
    "plt.title(\"Predicted Monthly Orders\")\n",
    "plt.bar(month_dict.keys(), prediction, color='b',align='center')"
   ]
  },
  {
   "cell_type": "code",
   "execution_count": 82,
   "metadata": {
    "colab": {
     "base_uri": "https://localhost:8080/",
     "height": 330
    },
    "id": "Klpj-qGlcAnh",
    "outputId": "48c19440-ff9c-423f-83e6-144349c2714e"
   },
   "outputs": [
    {
     "data": {
      "text/plain": [
       "<BarContainer object of 38 artists>"
      ]
     },
     "execution_count": 82,
     "metadata": {
      "tags": []
     },
     "output_type": "execute_result"
    },
    {
     "data": {
      "image/png": "[encoded data removed]",
      "text/plain": [
       "<Figure size 432x288 with 1 Axes>"
      ]
     },
     "metadata": {
      "needs_background": "light",
      "tags": []
     },
     "output_type": "display_data"
    }
   ],
   "source": [
    "plt.xticks(rotation = \"vertical\")\n",
    "plt.title(\"Total Monthly Orders\")\n",
    "plt.bar(month_dict.keys(), month_dict.values())"
   ]
  },
  {
   "cell_type": "code",
   "execution_count": 86,
   "metadata": {
    "colab": {
     "base_uri": "https://localhost:8080/",
     "height": 346
    },
    "id": "eePdzaskezGv",
    "outputId": "cc5d2a70-f12b-4e57-c7c9-61c92c3d8db4"
   },
   "outputs": [
    {
     "name": "stdout",
     "output_type": "stream",
     "text": [
      "The MSE is 285759.605163979\n",
      "The RMSE is 534.5648746073567\n"
     ]
    },
    {
     "data": {
      "image/png": "[encoded data removed]",
      "text/plain": [
       "<Figure size 432x288 with 1 Axes>"
      ]
     },
     "metadata": {
      "needs_background": "light",
      "tags": []
     },
     "output_type": "display_data"
    }
   ],
   "source": [
    "error = prediction-list(month_dict.values())\n",
    "plt.xticks(rotation = \"vertical\")\n",
    "plt.title(\"Monthly Error\")\n",
    "plt.bar(month_dict.keys(), error, color='r')\n",
    "mse = (error ** 2).mean()\n",
    "rmse = np.sqrt(mse)\n",
    "print(\"The MSE is \"+str(mse))\n",
    "print(\"The RMSE is \"+str(rmse))"
   ]
  },
  {
   "cell_type": "code",
   "execution_count": 112,
   "metadata": {
    "colab": {
     "base_uri": "https://localhost:8080/"
    },
    "id": "QVB_aBTF8WoY",
    "outputId": "d8f9a071-46d8-4ac7-8a30-29aa559e6000"
   },
   "outputs": [
    {
     "name": "stdout",
     "output_type": "stream",
     "text": [
      "The expected number of orders in the month of March 2021 is 8365\n"
     ]
    }
   ],
   "source": [
    "pred_march = output.predict(start = len(month_dict.values()),exog=[[0]], dynamic=False)\n",
    "pred_march = int(pred_march)\n",
    "print(\"The expected number of orders in the month of March 2021 is \"+str(pred_march))"
   ]
  },
  {
   "cell_type": "markdown",
   "metadata": {
    "id": "pndq27COBSLt"
   },
   "source": [
    "Finally, we get a prediction of 8365 orders in the month of March 2021. Now, we have to convert this into the number of pickers we need each day. For this we will not consider the daily variation in the number of orders (as stated before) and we will simply divide by the number of days to get the daily orders"
   ]
  },
  {
   "cell_type": "code",
   "execution_count": 114,
   "metadata": {
    "colab": {
     "base_uri": "https://localhost:8080/"
    },
    "id": "9jpXsXZn8hcK",
    "outputId": "3eaf1907-821c-4ce8-f434-9f04acb10fa1"
   },
   "outputs": [
    {
     "data": {
      "text/plain": [
       "270"
      ]
     },
     "execution_count": 114,
     "metadata": {
      "tags": []
     },
     "output_type": "execute_result"
    }
   ],
   "source": [
    "daily_orders = pred_march/31\n",
    "daily_orders = round(daily_orders)\n",
    "daily_orders"
   ]
  },
  {
   "cell_type": "markdown",
   "metadata": {
    "id": "NS-5O95vCOOC"
   },
   "source": [
    "Now, we know that the orders are approximately dristibuted with a ratio of 3:1 between the morning and the afternoon so we get:"
   ]
  },
  {
   "cell_type": "code",
   "execution_count": 116,
   "metadata": {
    "colab": {
     "base_uri": "https://localhost:8080/"
    },
    "id": "k24ixqaLBM3S",
    "outputId": "8f93bbf7-00b5-4c50-a8dc-09d3c0cd93a1"
   },
   "outputs": [
    {
     "name": "stdout",
     "output_type": "stream",
     "text": [
      "The morning shift will get 202.5 orders\n",
      "The afternoon shift will get 67.5 orders\n"
     ]
    }
   ],
   "source": [
    "# Orders per shift\n",
    "morning = daily_orders*0.75\n",
    "afternoon = daily_orders*0.25\n",
    "print(\"The morning shift will get \"+str(morning)+\" orders\")\n",
    "print(\"The afternoon shift will get \"+str(afternoon)+\" orders\")\n"
   ]
  },
  {
   "cell_type": "markdown",
   "metadata": {
    "id": "vUiGuBXYDtIL"
   },
   "source": [
    "We also know that every worker picks at least 5 orders per hour and each shift lasts 6 hours"
   ]
  },
  {
   "cell_type": "code",
   "execution_count": 119,
   "metadata": {
    "colab": {
     "base_uri": "https://localhost:8080/"
    },
    "id": "6nrxK4BtDcNX",
    "outputId": "b2624956-1f0a-4c30-a180-8c3d4c0d1d70"
   },
   "outputs": [
    {
     "name": "stdout",
     "output_type": "stream",
     "text": [
      "The morning shift will need 7 pickers\n",
      "The afternoon shift will need 3 pickers\n"
     ]
    }
   ],
   "source": [
    "# Number of pickers\n",
    "import math\n",
    "morning_pickers = math.ceil(morning/(5*6))\n",
    "afternoon_pickers = math.ceil(afternoon/(5*6))\n",
    "print(\"The morning shift will need \"+str(morning_pickers)+\" pickers\")\n",
    "print(\"The afternoon shift will need \"+str(afternoon_pickers)+\" pickers\")"
   ]
  },
  {
   "cell_type": "markdown",
   "metadata": {
    "id": "hi05LscIEzgv"
   },
   "source": [
    "## Conclusion\n",
    "\n",
    "*   The SARIMAX model predicted a number of orders in March of 8365 assuming an affectedness of 0. This is consistent with the visualized growth in the number of orders.\n",
    "*   Despite the consistency of the result and the grid search that was done, we can see that the model still has a high RMS error and further tuning of the parameters could improve the results, especially if the model is to be used for forecasting of more than one time step into the future. \n",
    "*   The model could be optimized further if the daily variations of the orders are considered because during the weekends the number of orders is higher than during the week, indicating that more pickers are required in some days than others."
   ]
  }
 ],
 "metadata": {
  "colab": {
   "name": "Prueba Técnica Melonn.ipynb",
   "provenance": []
  },
  "kernelspec": {
   "display_name": "Python 3",
   "language": "python",
   "name": "python3"
  },
  "language_info": {
   "codemirror_mode": {
    "name": "ipython",
    "version": 3
   },
   "file_extension": ".py",
   "mimetype": "text/x-python",
   "name": "python",
   "nbconvert_exporter": "python",
   "pygments_lexer": "ipython3",
   "version": "3.7.6"
  }
 },
 "nbformat": 4,
 "nbformat_minor": 1
}
